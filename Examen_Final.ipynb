{
 "cells": [
  {
   "attachments": {},
   "cell_type": "markdown",
   "metadata": {
    "notebookRunGroups": {
     "groupValue": ""
    }
   },
   "source": [
    "Curso ICC SADIO 2025\n",
    "A continuación mostramos los distintos pasos del examen del Curso Introducción a la Computación Cuántica."
   ]
  },
  {
   "attachments": {},
   "cell_type": "markdown",
   "metadata": {},
   "source": [
    "Un estado cuántico se representa, en su forma más general, por una matriz densidad que es positiva y de traza uno. Las matrices densidad siempre son hermitianas y sus autovalores son no negativos. Geométricamente, siempre se pueden escribir como combinaciones convexas de matrices densidad asociadas a estados puros.\n",
    "\n",
    "Un problema que aparece a menudo es: ¿cuál es el estado que produce un cierto dispositivo? Una forma concreta de averiguar el estado, la provee la $\\text{\\textit{tomografía cuántica}}$. Esta metodología permite averiguar los coeficientes de la matriz densidad asociada con el estado en cuestión.\n",
    "\n",
    "Veamos un ejemplo concreto. La matriz densidad más general de un qubit se puede escribir como:\n",
    "\n",
    "$$\\rho = \\begin{pmatrix}\n",
    "a & c \\\\\n",
    "c^{\\ast} & b\n",
    "\\end{pmatrix}$$\n",
    "\n",
    "con a y b números reales y c un número complejo. Dado un estado puro $|\\psi\\rangle$, su matriz densidad asociada se construye haciendo el producto exterior \"ket\"-\"bra\": $\\rho=|\\psi\\rangle\\langle\\psi|$.\n",
    "\n",
    "$\\color{blue}{\\text{Ejercicio 1}}$: Explicar por qué es válida la parametrización de arriba."
   ]
  },
  {
   "cell_type": "code",
   "execution_count": 1,
   "metadata": {
    "ExecuteTime": {
     "end_time": "2025-09-07T18:55:49.093145Z",
     "start_time": "2025-09-07T18:55:49.087890Z"
    }
   },
   "outputs": [],
   "source": [
    "# GLOBALES\n",
    "\n",
    "shots_lst=10,100,1000,10000,1e7"
   ]
  },
  {
   "cell_type": "markdown",
   "metadata": {
    "jp-MarkdownHeadingCollapsed": true
   },
   "source": [
    "---\n",
    "\n",
    "### $\\color{blue}{\\text{Respuesta 1}}$:\n",
    "\n",
    "para cualquier $\\rho=|\\psi\\rangle\\langle\\psi|$, donde\n",
    "\n",
    "$$\\ket{\\psi} = \\alpha\\ket{0} + \\beta\\ket{1} $$\n",
    "\n",
    "$$  \\rho=|\\psi\\rangle\\langle\\psi| = $$\n",
    "\n",
    "$$ = \\begin{pmatrix}\n",
    "\\alpha \\\\\n",
    "\\beta\n",
    "\\end{pmatrix} (\\alpha^* \\beta^* ) = $$\n",
    "$$ = \\begin{pmatrix}\n",
    "\\alpha\\alpha^* & \\alpha\\beta^* \\\\\n",
    "\\beta\\alpha^* & \\beta\\beta^*  \\\\\n",
    "\\end{pmatrix}$$\n",
    "\n",
    "entonces\n",
    "\n",
    "\n",
    "$$\\rho = \\begin{pmatrix}\n",
    "{|\\alpha|}^2 & \\alpha\\beta^* \\\\\n",
    "(\\alpha\\beta^*)^* & {|\\beta|}^2  \\\\\n",
    "\\end{pmatrix}$$\n",
    "\n",
    "con la diagonal ppal siendo números reales y el resto un números complejos conjugados. QED.\n",
    "\n",
    "---\n"
   ]
  },
  {
   "cell_type": "markdown",
   "metadata": {
    "notebookRunGroups": {
     "groupValue": "1"
    }
   },
   "source": [
    "Dado que la traza de $\\rho$ tiene que ser uno, tenemos una relación entre $a$ y $b$, a saber: $b = 1-a$.\n",
    "\n",
    "Entonces, la cantidad de parámetros (reales) independientes que definen a $\\rho$ es tres (por ejemplo, $a$, y las partes real y compleja de $c$).\n",
    "\n",
    "¿Es posible determinar estos valores experimentalmente (dada una fuente que produce estados desconocidos)?\n",
    "\n",
    "Para responder a esa pregunta, notemos lo siguiente. Sean $\\sigma_{x}$, $\\sigma_{y}$ y $\\sigma_{z}$ las matrices de Pauli: \n",
    "\n",
    "$$\\sigma_{x} = \\begin{pmatrix}\n",
    "0 & 1 \\\\\n",
    "1 & 0\n",
    "\\end{pmatrix}$$\n",
    "\n",
    "$$\\sigma_{y} = \\begin{pmatrix}\n",
    "0 & -i \\\\\n",
    "i & 0\n",
    "\\end{pmatrix}$$ \n",
    "\n",
    "$$\\sigma_{z}= \\begin{pmatrix}\n",
    "1 & 0 \\\\\n",
    "0 & -1\n",
    "\\end{pmatrix}$$\n",
    "\n",
    "Físicamente, estas matrices representan a las operaciones \"medir el espin\" en las direcciones $\\hat{x}$, $\\hat{y}$ y $\\hat{z}$. Es importante tener en cuenta que $\\sigma_{x}$, $\\sigma_{y}$ y $\\sigma_{z}$ se corresponden con las compuertas $X$, $Y$ y $Z$, respectivamente (discutidas durante el curso). Los valores medios de estos observables vienen dados por:\n",
    "\n",
    "$\\langle \\sigma_{x}\\rangle = tr(\\rho\\sigma_{x}) = 2\\Re c$\n",
    "\n",
    "$\\langle \\sigma_{y}\\rangle = tr(\\rho\\sigma_{y}) = 2\\Im c$\n",
    "\n",
    "$\\langle \\sigma_{z}\\rangle = tr(\\rho\\sigma_{z}) = 2a-1$\n",
    "\n",
    "donde $\\Re c$ y $\\Im c$ son las partes reales e imaginaria de $c$, respectivamente. \n",
    "\n",
    "$\\color{blue}{\\text{Ejercicio 2}}$: Demostrar las igualdades de arriba."
   ]
  },
  {
   "cell_type": "markdown",
   "metadata": {
    "notebookRunGroups": {
     "groupValue": "1"
    }
   },
   "source": [
    "---\n",
    "\n",
    "### $\\color{blue}{\\text{Respuesta 2}}$:\n",
    "\n",
    "\n",
    "$$ \\langle\\sigma_{x}\\rangle = tr(\\rho\\sigma_{x}) =$$\n",
    "\n",
    "$$= tr\\left(\\begin{pmatrix}a & c \\\\ c^* & 1-a\\end{pmatrix}\\begin{pmatrix}0 & 1 \\\\ 1 & 0\\end{pmatrix}\\right) =$$\n",
    "\n",
    "$$= tr\\left(\\begin{pmatrix}c & a \\\\ 1-a & c^* \\end{pmatrix}\\right)= c+c^* = $$ \n",
    "\n",
    "$$= 2Re(c)+i(Im(c)-Im(c)) = 2Re(c)+i0 = 2Re(c) $$\n",
    "\n",
    "---\n",
    "$$ \\langle\\sigma_{y}\\rangle = tr(\\rho\\sigma_{y}) =$$\n",
    "\n",
    "$$= tr\\left(\\begin{pmatrix}a & c \\\\ c^* & 1-a\\end{pmatrix}\\begin{pmatrix}0 & -i \\\\ i & 0\\end{pmatrix}\\right) =$$\n",
    "\n",
    "$$= tr\\left(\\begin{pmatrix}ic & -ia \\\\ ic^* & -ic^*\\end{pmatrix}\\right) = ic - ic^* = $$ \n",
    "\n",
    "$$= i \\left( Re(c) - iIm(c) - Re(c) -iIm(c)\\right) $$\n",
    "\n",
    "$$= i \\left((-2i) Im(c) \\right) = $$\n",
    "\n",
    "$$= (-1) (-2) Im(c) = 2Im(c) $$\n",
    "\n",
    "---\n",
    "\n",
    "$$ \\langle\\sigma_{z}\\rangle = tr(\\rho\\sigma_{z}) =$$\n",
    "\n",
    "$$= tr\\left(\\begin{pmatrix}a & c \\\\ c^* & 1-a\\end{pmatrix}\\begin{pmatrix}1 & 0 \\\\ 0 & -1 \\end{pmatrix}\\right) =$$\n",
    "\n",
    "$$= tr\\left(\\begin{pmatrix}a & -c \\\\ c^* & a-1\\end{pmatrix}\\right) = 2a-1 $$\n",
    "\n",
    "---"
   ]
  },
  {
   "cell_type": "code",
   "execution_count": null,
   "metadata": {
    "ExecuteTime": {
     "end_time": "2025-09-07T18:55:49.145399Z",
     "start_time": "2025-09-07T18:55:49.144151Z"
    }
   },
   "outputs": [],
   "source": []
  },
  {
   "attachments": {},
   "cell_type": "markdown",
   "metadata": {},
   "source": [
    "Las ecuaciones de arriba constituye un <span style=\"color:red\"> sistema con tres ecuaciones y tres incógnitas. WTF!</span>. A partir de estas ecuaciones, podemos determinar $a$, $\\Re c$ y $\\Im c$. formalmente, con ellos alcanzaría para determinar la matriz densidad $\\rho$ a partir de los valores medios (obtenidos experimentalmente) de $\\sigma_{x}$, $\\sigma_{y}$ y $\\sigma_{z}$. Veamos entonces cómo funciona esto en la práctica. Para ello, usemos un simulador de computadora cuántica. Importamos las librerías necesarias, y construyamos un ejemplo de circuito cuántico, tal como vimos en clase. En lo que sigue se deben utilizar los tutoriales de Qiskit como guía:\n",
    "\n",
    "https://qiskit.org/textbook/preface.html"
   ]
  },
  {
   "cell_type": "code",
   "execution_count": null,
   "metadata": {
    "ExecuteTime": {
     "end_time": "2025-09-07T18:55:49.174309Z",
     "start_time": "2025-09-07T18:55:49.172949Z"
    }
   },
   "outputs": [],
   "source": []
  },
  {
   "cell_type": "code",
   "execution_count": null,
   "metadata": {
    "ExecuteTime": {
     "end_time": "2025-09-07T18:55:49.191037Z",
     "start_time": "2025-09-07T18:55:49.189801Z"
    }
   },
   "outputs": [],
   "source": []
  },
  {
   "cell_type": "code",
   "execution_count": null,
   "metadata": {
    "ExecuteTime": {
     "end_time": "2025-09-07T18:55:49.228735Z",
     "start_time": "2025-09-07T18:55:49.227171Z"
    }
   },
   "outputs": [],
   "source": []
  },
  {
   "cell_type": "code",
   "execution_count": null,
   "metadata": {
    "ExecuteTime": {
     "end_time": "2025-09-07T18:55:49.255899Z",
     "start_time": "2025-09-07T18:55:49.254372Z"
    }
   },
   "outputs": [],
   "source": []
  },
  {
   "attachments": {},
   "cell_type": "markdown",
   "metadata": {},
   "source": [
    "Importamos NumPy y Qiskit."
   ]
  },
  {
   "cell_type": "code",
   "execution_count": 2,
   "metadata": {
    "ExecuteTime": {
     "end_time": "2025-09-07T18:55:49.690242Z",
     "start_time": "2025-09-07T18:55:49.295853Z"
    }
   },
   "outputs": [],
   "source": [
    "import numpy as np\n",
    "import qiskit as qk  # mejor que 'from qiskit import *'   :)\n"
   ]
  },
  {
   "attachments": {},
   "cell_type": "markdown",
   "metadata": {},
   "source": [
    "$\\color{blue}{\\text{Ejercicio 3}}$: Armar un circuito con un solo qubit, y aplicarle la compuerta Hadamard. Crear una memoria clásica (en la cual guardaremos los resultados de las mediciones)."
   ]
  },
  {
   "cell_type": "markdown",
   "metadata": {},
   "source": [
    "### $\\color{blue}{\\text{Respuesta 3}}$:\n",
    "---\n",
    "Solución:"
   ]
  },
  {
   "cell_type": "code",
   "execution_count": 3,
   "metadata": {
    "ExecuteTime": {
     "end_time": "2025-09-07T18:55:50.035032Z",
     "start_time": "2025-09-07T18:55:49.698306Z"
    }
   },
   "outputs": [
    {
     "data": {
      "image/png": "[encoded data removed]",
      "text/plain": [
       "<Figure size 269.064x200.667 with 1 Axes>"
      ]
     },
     "execution_count": 3,
     "metadata": {},
     "output_type": "execute_result"
    }
   ],
   "source": [
    "## Respuesta3\n",
    "\n",
    "circ = qk.QuantumCircuit(1,1)\n",
    "circ.h(0)\n",
    "circ.measure(0,0)\n",
    "circ.draw('mpl')\n"
   ]
  },
  {
   "attachments": {},
   "cell_type": "markdown",
   "metadata": {},
   "source": [
    "¿Cómo medir el observable $\\sigma_{z}$? Qiskit supone por defecto que las mediciones se realizan en la base computacional. Así que, si queremos medir $\\sigma_{z}$, sólo tenemos que agregar una medición a nuestro circuito (medimos el qubit \"cero\" y guardamos el resultado en la memoria \"cero\"):"
   ]
  },
  {
   "cell_type": "code",
   "execution_count": 4,
   "metadata": {
    "ExecuteTime": {
     "end_time": "2025-09-07T18:55:50.059625Z",
     "start_time": "2025-09-07T18:55:50.056251Z"
    }
   },
   "outputs": [
    {
     "data": {
      "text/plain": [
       "array([[ 0.70710678+0.j,  0.70710678+0.j],\n",
       "       [ 0.70710678+0.j, -0.70710678+0.j]])"
      ]
     },
     "execution_count": 4,
     "metadata": {},
     "output_type": "execute_result"
    }
   ],
   "source": [
    "# https://quantum.cloud.ibm.com/docs/es/api/qiskit/qiskit.circuit.library.HGate\n",
    "h_suelta=qk.circuit.library.HGate()\n",
    "h_suelta.to_matrix()"
   ]
  },
  {
   "cell_type": "code",
   "execution_count": 5,
   "metadata": {
    "ExecuteTime": {
     "end_time": "2025-09-07T18:55:50.134954Z",
     "start_time": "2025-09-07T18:55:50.093986Z"
    }
   },
   "outputs": [],
   "source": [
    "circ = qk.QuantumCircuit(1,1)\n",
    "circ.h(0)\n",
    "circ.measure(0,0)\n",
    "circ.draw('mpl')\n",
    "from qiskit_aer import AerSimulator"
   ]
  },
  {
   "attachments": {},
   "cell_type": "markdown",
   "metadata": {},
   "source": [
    "Ahora vamos a correr el circuito. Para ello, definimos un simulador:"
   ]
  },
  {
   "cell_type": "code",
   "execution_count": 6,
   "metadata": {
    "ExecuteTime": {
     "end_time": "2025-09-07T18:55:50.504141Z",
     "start_time": "2025-09-07T18:55:50.435376Z"
    }
   },
   "outputs": [
    {
     "data": {
      "image/png": "[encoded data removed]",
      "text/plain": [
       "<Figure size 640x480 with 1 Axes>"
      ]
     },
     "execution_count": 6,
     "metadata": {},
     "output_type": "execute_result"
    }
   ],
   "source": [
    "import qiskit_aer as qk_aer\n",
    "\n",
    "\n",
    "\n",
    "simulador = qk_aer.AerSimulator()\n",
    "\n",
    "counts_z = simulador.run(circ, shots = shots_lst[1]).result().get_counts()  # Hacemos la simulación corriendo el circuito en el simulador.\n",
    "\n",
    "from qiskit.visualization import plot_histogram # Importamos herramientas de visualización.\n",
    "\n",
    "plot_histogram(counts_z)  # Hacemos un histograma con los resultados."
   ]
  },
  {
   "cell_type": "code",
   "execution_count": 7,
   "metadata": {
    "ExecuteTime": {
     "end_time": "2025-09-07T18:55:50.791063Z",
     "start_time": "2025-09-07T18:55:50.786606Z"
    }
   },
   "outputs": [
    {
     "data": {
      "text/plain": [
       "['_AVAILABLE_DEVICES',\n",
       " '_AVAILABLE_METHODS',\n",
       " '_BASIS_GATES',\n",
       " '_CUSTOM_INSTR',\n",
       " '_DEFAULT_CONFIGURATION',\n",
       " '_SIMULATION_DEVICES',\n",
       " '_SIMULATION_METHODS',\n",
       " '__abstractmethods__',\n",
       " '__class__',\n",
       " '__delattr__',\n",
       " '__dict__',\n",
       " '__dir__',\n",
       " '__doc__',\n",
       " '__eq__',\n",
       " '__format__',\n",
       " '__ge__',\n",
       " '__getattribute__',\n",
       " '__getstate__',\n",
       " '__gt__',\n",
       " '__hash__',\n",
       " '__init__',\n",
       " '__init_subclass__',\n",
       " '__le__',\n",
       " '__lt__',\n",
       " '__module__',\n",
       " '__ne__',\n",
       " '__new__',\n",
       " '__reduce__',\n",
       " '__reduce_ex__',\n",
       " '__repr__',\n",
       " '__setattr__',\n",
       " '__sizeof__',\n",
       " '__slots__',\n",
       " '__str__',\n",
       " '__subclasshook__',\n",
       " '__weakref__',\n",
       " '_abc_impl',\n",
       " '_assemble_noise_model',\n",
       " '_basis_gates',\n",
       " '_cached_basis_gates',\n",
       " '_check_basis_gates',\n",
       " '_compile',\n",
       " '_configuration',\n",
       " '_controller',\n",
       " '_convert_binds',\n",
       " '_convert_circuit_binds',\n",
       " '_coupling_map',\n",
       " '_default_options',\n",
       " '_execute_circuits',\n",
       " '_execute_circuits_job',\n",
       " '_format_results',\n",
       " '_from_backend',\n",
       " '_get_executor',\n",
       " '_mapping',\n",
       " '_options',\n",
       " '_options_configuration',\n",
       " '_options_properties',\n",
       " '_properties',\n",
       " '_provider',\n",
       " '_run_circuits',\n",
       " '_set_configuration_option',\n",
       " '_set_method_config',\n",
       " '_set_properties_option',\n",
       " '_target',\n",
       " 'available_devices',\n",
       " 'available_methods',\n",
       " 'backend_version',\n",
       " 'clear_options',\n",
       " 'configuration',\n",
       " 'coupling_map',\n",
       " 'description',\n",
       " 'dt',\n",
       " 'dtm',\n",
       " 'from_backend',\n",
       " 'instruction_durations',\n",
       " 'instructions',\n",
       " 'max_circuits',\n",
       " 'meas_map',\n",
       " 'name',\n",
       " 'num_qubits',\n",
       " 'online_date',\n",
       " 'operation_names',\n",
       " 'operations',\n",
       " 'options',\n",
       " 'properties',\n",
       " 'provider',\n",
       " 'qubit_properties',\n",
       " 'run',\n",
       " 'set_max_qubits',\n",
       " 'set_option',\n",
       " 'set_options',\n",
       " 'target',\n",
       " 'version']"
      ]
     },
     "execution_count": 7,
     "metadata": {},
     "output_type": "execute_result"
    }
   ],
   "source": [
    "dir(simulador)"
   ]
  },
  {
   "attachments": {},
   "cell_type": "markdown",
   "metadata": {},
   "source": [
    "¿Cómo calcular, a partir de los datos del histograma de arriba, el valor medio de $\\sigma_{z}$? Para ello, notar los siguientes hechos:\n",
    "\n",
    "- Cada vez que obtenemos \"$0$\" como resultado resultado de una medición, eso corresponde al resultado $1$ del observable $\\sigma_{z}$. De forma análoga, cada vez que obtenemos \"$1$\", eso corresponde al resultado $-1$ del observable $\\sigma_{z}$.\n",
    "\n",
    "- La frecuencia con la que obtienen el autovalor $1$ para $\\sigma_{z}$ es igual al número de veces $N_{0}$ que salió el resultado \"$0$\" dividido el número de corridas $N$ del experimento (número de shots), es decir:\n",
    "\n",
    "$$ P^{exp}_{1} = \\frac{N_{0}}{N} $$\n",
    "\n",
    "Análogamente, \n",
    "\n",
    "$$ P^{exp}_{-1} = \\frac{N_{1}}{N}$$\n",
    "\n",
    "Agregamos el supraíndice \"exp\" para indicar que son resultados que se obtienen a partir de correr el simulador definido arriba con un número de shots finito. Notar que el simulador de arriba no tiene ruido. Por lo tanto, sólo estamos simulando estados puros, pero con $\\text{\\textit{estadística finita}}$.\n",
    "\n",
    "Utilizando las ecuaciones de arriba, se obtiene que el valor empírico (es decir, calculado a partir de las frecuencias observadas) del valor medio de $\\sigma_{z}$ viene dado por:\n",
    "\n",
    "$$ \\langle\\sigma_{z}\\rangle_{exp} = (1)P^{exp}_{1} + (-1)P^{exp}_{-1} = P^{exp}_{1} - P^{exp}_{-1} = \\frac{N_{0}}{N} - \\frac{N_{1}}{N} $$\n",
    "\n",
    "$\\color{blue}{\\text{Ejercicio 4}}$: Calcular $\\langle\\sigma_{z}\\rangle_{exp}$, $P^{exp}_{1}$ y $P^{exp}_{-1}$ para distintos números de shots (es decir, para distintos valores de $N$). Por ejemplo, se podría usar $N=10$, $100$, $1000$, y $10000$. Comparar los valores obtenidos con los valores de las probabilidades y valor medio que predice la teoría, es decir, con $P_{1} = tr(\\rho |0\\rangle\\langle 0|)$, $P_{-1} = tr(\\rho |1\\rangle\\langle 1|)$ y $\\langle\\sigma_{z}\\rangle = tr(\\rho\\sigma_{z})$. ¿Coinciden? ¿Se parecen? ¿Si/No, por qué? Elaboren las respuestas con sus propias palabras. ¿Qué pasa si N tiende a infinito?"
   ]
  },
  {
   "cell_type": "markdown",
   "metadata": {},
   "source": [
    "---\n",
    "\n",
    "## $\\color{blue}{\\text{Respuesta 4}}$:\n"
   ]
  },
  {
   "cell_type": "code",
   "execution_count": 8,
   "metadata": {
    "ExecuteTime": {
     "end_time": "2025-09-07T18:55:51.186418Z",
     "start_time": "2025-09-07T18:55:50.928072Z"
    }
   },
   "outputs": [
    {
     "data": {
      "text/latex": [
       "$\\displaystyle \\ket{\\psi} = \\left[\\begin{matrix}0.707106781186547\\\\0.707106781186547\\end{matrix}\\right]$"
      ],
      "text/plain": [
       "<IPython.core.display.Math object>"
      ]
     },
     "jetTransient": {
      "display_id": null
     },
     "metadata": {},
     "output_type": "display_data"
    },
    {
     "data": {
      "text/latex": [
       "$\\displaystyle \\langle\\sigma_{z}\\rangle = 0.414213562373095$"
      ],
      "text/plain": [
       "<IPython.core.display.Math object>"
      ]
     },
     "jetTransient": {
      "display_id": null
     },
     "metadata": {},
     "output_type": "display_data"
    },
    {
     "name": "stdout",
     "output_type": "stream",
     "text": [
      "-[ ] revisar... tiene que ser 0, o no???\n"
     ]
    }
   ],
   "source": [
    "#calculo la salida\n",
    "from IPython.display import display, Math, Latex\n",
    "import sympy as sp\n",
    "psi=sp.Matrix([[1],[0]])\n",
    "psi=sp.Matrix(qk.circuit.library.HGate().to_matrix())*psi\n",
    "display(Math(r\"\\ket{\\psi} = \"+sp.latex(psi)))\n",
    "\n",
    "#calculo la media sobre \\hat{Z}\n",
    "mediaSigmaZ=2*psi[0]-1 # fómula de la pregunta 2\n",
    "display(Math(r'\\langle\\sigma_{z}\\rangle = '+f\"{mediaSigmaZ}\"))\n",
    "if abs(mediaSigmaZ) > 0.1:\n",
    "    # WTF !!!\n",
    "    print(\"-[ ] revisar... tiene que ser 0, o no???\")\n",
    "\n",
    "#calculo las proba cada autovalor de \\sigma_Z\n",
    "proba1=1"
   ]
  },
  {
   "cell_type": "markdown",
   "metadata": {},
   "source": [
    "de la pregunta1:\n",
    "\n",
    "$$\\rho = \\begin{pmatrix}\n",
    "{|\\alpha|}^2 & \\alpha\\beta^* \\\\\n",
    "(\\alpha\\beta^*)^* & {|\\beta|}^2  \\\\\n",
    "\\end{pmatrix}$$"
   ]
  },
  {
   "cell_type": "code",
   "execution_count": 9,
   "metadata": {
    "ExecuteTime": {
     "end_time": "2025-09-07T18:55:51.211352Z",
     "start_time": "2025-09-07T18:55:51.205852Z"
    }
   },
   "outputs": [
    {
     "data": {
      "text/latex": [
       "$\\displaystyle \\rho =\\left[\\begin{matrix}0.5 & 0.5\\\\0.5 & 0.5\\end{matrix}\\right]$"
      ],
      "text/plain": [
       "<IPython.core.display.Math object>"
      ]
     },
     "jetTransient": {
      "display_id": null
     },
     "metadata": {},
     "output_type": "display_data"
    }
   ],
   "source": [
    "contradiagonal=psi[0]*(psi[1].conjugate())\n",
    "rho=sp.Matrix([[abs(psi[0])**2,\n",
    "                contradiagonal],\n",
    "               [contradiagonal.conjugate(),\n",
    "                abs(psi[1])**2]])\n",
    "display(Math(r\"\\rho =\"+sp.latex(rho)))"
   ]
  },
  {
   "cell_type": "markdown",
   "metadata": {},
   "source": [
    "-[ ] no debería ser cero fuera de las diagonales, pq $\\ket{\\psi}$ es puro y coherente?"
   ]
  },
  {
   "cell_type": "code",
   "execution_count": 10,
   "metadata": {
    "ExecuteTime": {
     "end_time": "2025-09-07T18:55:51.237065Z",
     "start_time": "2025-09-07T18:55:51.230995Z"
    }
   },
   "outputs": [
    {
     "data": {
      "text/latex": [
       "$\\displaystyle P_1 = 0.500000000000000$"
      ],
      "text/plain": [
       "<IPython.core.display.Math object>"
      ]
     },
     "jetTransient": {
      "display_id": null
     },
     "metadata": {},
     "output_type": "display_data"
    },
    {
     "data": {
      "text/latex": [
       "$\\displaystyle P_{-1} = 0.500000000000000$"
      ],
      "text/plain": [
       "<IPython.core.display.Math object>"
      ]
     },
     "jetTransient": {
      "display_id": null
     },
     "metadata": {},
     "output_type": "display_data"
    }
   ],
   "source": [
    "# calculo P_1\n",
    "ketcero=sp.Matrix([[1],[0]])\n",
    "Puno=rho*(ketcero*ketcero.transpose().conjugate())  #contd. Me comí la conjugación, \"sory gordo\"\n",
    "Puno=Puno.trace()\n",
    "display(Math(r\"P_1 = \"+str(Puno)))\n",
    "\n",
    "# calculo P_{-1}\n",
    "ketuno=sp.Matrix([[0],[1]])\n",
    "PmenosUno=rho*(ketuno*ketuno.transpose().conjugate())  #contd\n",
    "PmenosUno=PmenosUno.trace()\n",
    "display(Math(r\"P_{-1} = \"+str(Puno)))"
   ]
  },
  {
   "cell_type": "code",
   "execution_count": 11,
   "metadata": {
    "ExecuteTime": {
     "end_time": "2025-09-07T18:55:58.610297Z",
     "start_time": "2025-09-07T18:55:51.253298Z"
    },
    "tags": [
     "esta"
    ]
   },
   "outputs": [
    {
     "data": {
      "text/html": [
       "<div>\n",
       "<style scoped>\n",
       "    .dataframe tbody tr th:only-of-type {\n",
       "        vertical-align: middle;\n",
       "    }\n",
       "\n",
       "    .dataframe tbody tr th {\n",
       "        vertical-align: top;\n",
       "    }\n",
       "\n",
       "    .dataframe thead th {\n",
       "        text-align: right;\n",
       "    }\n",
       "</style>\n",
       "<table border=\"1\" class=\"dataframe\">\n",
       "  <thead>\n",
       "    <tr style=\"text-align: right;\">\n",
       "      <th></th>\n",
       "      <th>shots</th>\n",
       "      <th>n_1</th>\n",
       "      <th>n_0</th>\n",
       "      <th>sigmaZexp</th>\n",
       "      <th>Pexp_1</th>\n",
       "      <th>Pexp_menos1</th>\n",
       "      <th>errorPlambda1pct</th>\n",
       "      <th>errorPlambda2pct</th>\n",
       "    </tr>\n",
       "  </thead>\n",
       "  <tbody>\n",
       "    <tr>\n",
       "      <th>0</th>\n",
       "      <td>10.0</td>\n",
       "      <td>5</td>\n",
       "      <td>5</td>\n",
       "      <td>0.000000</td>\n",
       "      <td>0.500000</td>\n",
       "      <td>0.500000</td>\n",
       "      <td>2.22044604925031e-14</td>\n",
       "      <td>2.22044604925031e-14</td>\n",
       "    </tr>\n",
       "    <tr>\n",
       "      <th>1</th>\n",
       "      <td>100.0</td>\n",
       "      <td>54</td>\n",
       "      <td>46</td>\n",
       "      <td>0.080000</td>\n",
       "      <td>0.540000</td>\n",
       "      <td>0.460000</td>\n",
       "      <td>8.00000000000003</td>\n",
       "      <td>7.99999999999997</td>\n",
       "    </tr>\n",
       "    <tr>\n",
       "      <th>2</th>\n",
       "      <td>1000.0</td>\n",
       "      <td>475</td>\n",
       "      <td>525</td>\n",
       "      <td>-0.050000</td>\n",
       "      <td>0.475000</td>\n",
       "      <td>0.525000</td>\n",
       "      <td>4.99999999999998</td>\n",
       "      <td>5.00000000000003</td>\n",
       "    </tr>\n",
       "    <tr>\n",
       "      <th>3</th>\n",
       "      <td>10000.0</td>\n",
       "      <td>5078</td>\n",
       "      <td>4922</td>\n",
       "      <td>0.015600</td>\n",
       "      <td>0.507800</td>\n",
       "      <td>0.492200</td>\n",
       "      <td>1.56000000000003</td>\n",
       "      <td>1.55999999999997</td>\n",
       "    </tr>\n",
       "    <tr>\n",
       "      <th>4</th>\n",
       "      <td>10000000.0</td>\n",
       "      <td>4998483</td>\n",
       "      <td>5001517</td>\n",
       "      <td>-0.000303</td>\n",
       "      <td>0.499848</td>\n",
       "      <td>0.500152</td>\n",
       "      <td>0.0303399999999732</td>\n",
       "      <td>0.0303400000000176</td>\n",
       "    </tr>\n",
       "  </tbody>\n",
       "</table>\n",
       "</div>"
      ],
      "text/plain": [
       "        shots      n_1      n_0  sigmaZexp    Pexp_1  Pexp_menos1  \\\n",
       "0        10.0        5        5   0.000000  0.500000     0.500000   \n",
       "1       100.0       54       46   0.080000  0.540000     0.460000   \n",
       "2      1000.0      475      525  -0.050000  0.475000     0.525000   \n",
       "3     10000.0     5078     4922   0.015600  0.507800     0.492200   \n",
       "4  10000000.0  4998483  5001517  -0.000303  0.499848     0.500152   \n",
       "\n",
       "       errorPlambda1pct      errorPlambda2pct  \n",
       "0  2.22044604925031e-14  2.22044604925031e-14  \n",
       "1      8.00000000000003      7.99999999999997  \n",
       "2      4.99999999999998      5.00000000000003  \n",
       "3      1.56000000000003      1.55999999999997  \n",
       "4    0.0303399999999732    0.0303400000000176  "
      ]
     },
     "execution_count": 11,
     "metadata": {},
     "output_type": "execute_result"
    }
   ],
   "source": [
    "import pandas as pd\n",
    "# Calcular $\\langle\\sigma_{z}\\rangle_{exp}$, $P^{exp}_{1}$ y $P^{exp}_{-1}$ para\n",
    "df_columns=[\"shots\", \"n_1\", \"n_0\", \"sigmaZexp\", \"Pexp_1\", \"Pexp_menos1\",\"errorPlambda1pct\",\"errorPlambda2pct\"]\n",
    "\n",
    "#shots_lst=10,100,1000,10000,1e7\n",
    "corridas=list()\n",
    "for shots in shots_lst:\n",
    "    _=simulador.run(circ, shots = shots).result()\n",
    "    corridas.append((shots, # ver df_columns\n",
    "        _.get_counts()[\"1\"],\n",
    "        _.get_counts()[\"0\"],\n",
    "        (_.get_counts()[\"1\"]-_.get_counts()[\"0\"])/shots,\n",
    "        _.get_counts()[\"1\"]/shots,\n",
    "        _.get_counts()[\"0\"]/shots,\n",
    "        abs(_.get_counts()[\"1\"]/shots/Puno-1)*100, # error porcentual\n",
    "        abs(_.get_counts()[\"0\"]/shots/PmenosUno-1)*100,)) # error porcentual\n",
    "\n",
    "\n",
    "df = pd.DataFrame(columns=df_columns, data=corridas)\n",
    "df"
   ]
  },
  {
   "cell_type": "markdown",
   "metadata": {
    "ExecuteTime": {
     "end_time": "2025-08-31T00:12:22.121584Z",
     "start_time": "2025-08-31T00:12:22.116709Z"
    }
   },
   "source": [
    "Comparando los valores obtenidos en las corridas, es evidente que aumentar N (shots) baja el error (columnas \"error*pct\") respecto al valor teórico. Aunque entre mil y 1e4 no hay mucha diferencia, incluso el error puede subir. Recién subiendo varios órdenes de magnitud, se nota el aumento en precisión.\n"
   ]
  },
  {
   "cell_type": "code",
   "execution_count": 12,
   "metadata": {
    "ExecuteTime": {
     "end_time": "2025-09-07T18:55:58.807298Z",
     "start_time": "2025-09-07T18:55:58.798530Z"
    }
   },
   "outputs": [
    {
     "data": {
      "text/html": [
       "<div>\n",
       "<style scoped>\n",
       "    .dataframe tbody tr th:only-of-type {\n",
       "        vertical-align: middle;\n",
       "    }\n",
       "\n",
       "    .dataframe tbody tr th {\n",
       "        vertical-align: top;\n",
       "    }\n",
       "\n",
       "    .dataframe thead th {\n",
       "        text-align: right;\n",
       "    }\n",
       "</style>\n",
       "<table border=\"1\" class=\"dataframe\">\n",
       "  <thead>\n",
       "    <tr style=\"text-align: right;\">\n",
       "      <th></th>\n",
       "      <th>shots</th>\n",
       "      <th>sigmaZexp</th>\n",
       "      <th>errorPlambda1pct_z</th>\n",
       "      <th>errorPlambda2pct_z</th>\n",
       "    </tr>\n",
       "  </thead>\n",
       "  <tbody>\n",
       "    <tr>\n",
       "      <th>0</th>\n",
       "      <td>10.0</td>\n",
       "      <td>0.000000</td>\n",
       "      <td>2.22044604925031e-14</td>\n",
       "      <td>2.22044604925031e-14</td>\n",
       "    </tr>\n",
       "    <tr>\n",
       "      <th>1</th>\n",
       "      <td>100.0</td>\n",
       "      <td>0.080000</td>\n",
       "      <td>8.00000000000003</td>\n",
       "      <td>7.99999999999997</td>\n",
       "    </tr>\n",
       "    <tr>\n",
       "      <th>2</th>\n",
       "      <td>1000.0</td>\n",
       "      <td>-0.050000</td>\n",
       "      <td>4.99999999999998</td>\n",
       "      <td>5.00000000000003</td>\n",
       "    </tr>\n",
       "    <tr>\n",
       "      <th>3</th>\n",
       "      <td>10000.0</td>\n",
       "      <td>0.015600</td>\n",
       "      <td>1.56000000000003</td>\n",
       "      <td>1.55999999999997</td>\n",
       "    </tr>\n",
       "    <tr>\n",
       "      <th>4</th>\n",
       "      <td>10000000.0</td>\n",
       "      <td>-0.000303</td>\n",
       "      <td>0.0303399999999732</td>\n",
       "      <td>0.0303400000000176</td>\n",
       "    </tr>\n",
       "  </tbody>\n",
       "</table>\n",
       "</div>"
      ],
      "text/plain": [
       "        shots  sigmaZexp    errorPlambda1pct_z    errorPlambda2pct_z\n",
       "0        10.0   0.000000  2.22044604925031e-14  2.22044604925031e-14\n",
       "1       100.0   0.080000      8.00000000000003      7.99999999999997\n",
       "2      1000.0  -0.050000      4.99999999999998      5.00000000000003\n",
       "3     10000.0   0.015600      1.56000000000003      1.55999999999997\n",
       "4  10000000.0  -0.000303    0.0303399999999732    0.0303400000000176"
      ]
     },
     "execution_count": 12,
     "metadata": {},
     "output_type": "execute_result"
    }
   ],
   "source": [
    "# guardo los valores para la rta7\n",
    "df_rta7 = df[[\"shots\", \"sigmaZexp\", \"errorPlambda1pct\", \"errorPlambda2pct\"]].copy()\n",
    "df_rta7.rename(columns={\"errorPlambda1pct\": \"errorPlambda1pct_z\",\"errorPlambda2pct\": \"errorPlambda2pct_z\",}, inplace=True)\n",
    "df_rta7"
   ]
  },
  {
   "attachments": {},
   "cell_type": "markdown",
   "metadata": {},
   "source": [
    "---\n",
    "Por ahora, tenemos los resultados de las mediciones en $\\sigma_{z}$. Pero, para hacer la tomografía, necesitamos también los valores medios $\\langle\\sigma_{x}\\rangle$ y $\\langle\\sigma_{y}\\rangle$. ¿Cómo hacemos para medir en las bases de $X$ e $Y$, es decir, en una base que no sea la computacional?\n",
    "\n",
    "Idealmente, deberíamos rotar nuestro observable. Si estuviéramos usando un imán ---como en el experimento de Stern-Gerlach---, alcanzaría con orientarlo en las direccciones $X$ e $Y$, y proceder de forma análoga a como hicimos para la dirección $Z$. Dependiendo del modelo de computadora cuántica que estemos usando, estas rotaciones de la base de medición se pueden hacer, o no. Sin embargo, incluso si nuestra computadora sólo \"colapsa\" efectivamente en la base computacional (es decir, si sólo mide $\\sigma_{z}$), podemos hacer lo siguiente. \n",
    "\n",
    "El procedimiento consiste en rotar al estado en vez del observable. Matemáticamente, esto se puede explicar así. Toda rotación de un sistema cuántico, se implementa por una matriz unitaria $U$. Si tenemos una base $B$, y queremos ir a una base $B'$, siempre va a existir una matriz unitaria que haga esa transformación. Entonces, supongamos que, en vez de $\\sigma_{z}$, queremos medir $\\sigma_{u} = U\\sigma_{z}U^{\\dagger}$ ($\\sigma_{u}$ sería como el \"imán rotado\" en el experimento de Stern-Gerlach, apuntando en la dirección $\\hat{u}$). Usando la propiedad de que la traza es cíclica (es decir, $tr(ABC)=tr(CAB)=tr(BCA)$ para matrices arbitrarias $A,B,C$), se puede probar la siguiente igualdad:\n",
    "\n",
    "$$\\langle\\sigma_{u}\\rangle = tr(\\rho\\sigma_{u}) = tr(\\rho U\\sigma_{z}U^{\\dagger})=tr(U^{\\dagger}\\rho U\\sigma_{z})$$\n",
    "\n",
    "es decir, tenemos que\n",
    "\n",
    "$$\\langle\\sigma_{u}\\rangle = tr(\\rho\\sigma_{u}) = tr(\\rho'\\sigma_{z})$$\n",
    "\n",
    "donde $\\rho' = U^{\\dagger}\\rho U$. En palabras: medir el estado $\\rho$ en la base rotada $u$, equivale a medir en $z$ al estado rotado $\\rho'$. Utilizando este truco, podemos medir en cualquier base que queramos.\n",
    "\n",
    "\n",
    "---\n",
    "\n",
    "$\\color{blue}{\\text{Ejercicio 5}}$: Comprobar que las ecuaciones del procedimiento arriba indicado son ciertas. ¿Cuál es el significado físico de la equivalencia establecida?"
   ]
  },
  {
   "cell_type": "markdown",
   "metadata": {},
   "source": [
    "\n",
    "## $\\color{blue}{\\text{Respuesta 5}}$:\n",
    "\n",
    "por un lado$^{(1)}$  analizo  $tr(\\rho U\\sigma_{z}U^{\\dagger})$ y por otro  lado$^{(2)}$ analizo  $tr(U^{\\dagger}\\rho U \\sigma_z)$\n",
    "\n",
    "\n",
    "1. analizo  $tr(\\rho U\\sigma_{z}U^{\\dagger})$\n",
    "$$ U \\sigma_z U^{\\dagger} == U \\begin{pmatrix} 1 & 0 \\\\ 0 & -1 \\end{pmatrix} U^{\\dagger} == $$\n",
    "$$ == U \\begin{pmatrix} {u_{11}^*} & 0 \\\\ 0 & -{u_{22}^*} \\end{pmatrix} == $$ $$ == \\begin{pmatrix} {u_{11}^*} & u_{12} \\\\ u_22 & -{u_{22}^*} \\end{pmatrix}\\begin{pmatrix} {u_{11}^*} & 0 \\\\ 0 & -{u_{22}^*} \\end{pmatrix} == $$\n",
    "$$ == \\begin{pmatrix} {|u_{11}|}^* & 0 \\\\ 0 & -{|u_{22}|}^* \\end{pmatrix} $$\n",
    "\n",
    " $$tr(\\rho U\\sigma_{z}U^{\\dagger}) == {|\\alpha|}^2{|u_{11}|}^2 - {|\\beta|}^2{|u_{22}|}^2  $$\n",
    "\n",
    "2. analizo  $tr(U^{\\dagger}\\rho U \\sigma_z)$\n",
    "\n",
    "$$ U^\\dagger \\rho U == U^\\dagger  \\begin{pmatrix}\n",
    "{|\\alpha|}^2 & \\alpha\\beta^* \\\\\n",
    "(\\alpha\\beta^*)^* & {|\\beta|}^2  \\\\\n",
    "\\end{pmatrix}\n",
    "\\begin{pmatrix} u_{11} & u_{12} \\\\ u_{21} & u_{22} \\end{pmatrix} ==\n",
    "$$\n",
    "\n",
    "$$  == U^\\dagger  \\begin{pmatrix}\n",
    "{|\\alpha|}^2 u_{11} & \\alpha\\beta^* u_{12}\\\\\n",
    "(\\alpha\\beta^*)^* u_{21} & {|\\beta|}^2 u_{22} \\\\\n",
    "\\end{pmatrix} ==\n",
    "$$\n",
    "\n",
    "$$  ==\n",
    "\\begin{pmatrix} {u_{11}}^* & {u_{21}}^* \\\\ {u_{12}}^2 & {u_{22}}^* \\end{pmatrix}\n",
    "\\begin{pmatrix}\n",
    "{|\\alpha|}^2 u_{11} & \\alpha\\beta^* u_{12}\\\\\n",
    "(\\alpha\\beta^*)^* u_{21} & {|\\beta|}^2 u_{22} \\\\\n",
    "\\end{pmatrix} ==\n",
    "$$\n",
    "\n",
    "\n",
    "$$  == \\begin{pmatrix}\n",
    "{|\\alpha|}^2 {|u_{11}|}^2 & \\alpha\\beta^* {|u_{12}|}^2\\\\\n",
    "(\\alpha\\beta^*)^* {|u_{21}|}^2 & {|\\beta|}^2 {|u_{22}|}^2 \\\\\n",
    "\\end{pmatrix}\n",
    "$$\n",
    "$$ tr(U^{\\dagger}\\rho U \\sigma_z) ==  {|\\alpha|}^2{|u_{11}|}^2 - {|\\beta|}^2{|u_{22}|}^2 = tr(\\rho' \\sigma_z)$$\n",
    "\n",
    "entonces\n",
    "$$ \\langle \\sigma_u \\rangle = tr(\\rho \\sigma_u) == {}^{(1)} == {}^{(2)} == tr(\\rho' \\sigma_z)  $$\n",
    "QED\n",
    "\n",
    "El significado físico sería (S.E.U.O.) que el estado $\\rho'$ tiene los mismos ángulo respecto la base de autovectores de $\\sigma_z$ el Estado original respecto a la base de autovectores de $\\sigma_u$.\n",
    "Esto s traduce en que $\\rho'$ tiene en su diagonal ppal las mismas prabilidades de el estado colapse cada elemento de base de autovectores de $\\sigma_z$ que el estado original.\n",
    "\n",
    "---"
   ]
  },
  {
   "cell_type": "code",
   "execution_count": null,
   "metadata": {
    "ExecuteTime": {
     "end_time": "2025-09-07T18:55:59.006194Z",
     "start_time": "2025-09-07T18:55:59.004698Z"
    }
   },
   "outputs": [],
   "source": []
  },
  {
   "cell_type": "code",
   "execution_count": null,
   "metadata": {
    "ExecuteTime": {
     "end_time": "2025-09-07T18:55:59.193297Z",
     "start_time": "2025-09-07T18:55:59.190750Z"
    }
   },
   "outputs": [],
   "source": []
  },
  {
   "cell_type": "code",
   "execution_count": null,
   "metadata": {
    "ExecuteTime": {
     "end_time": "2025-09-07T18:55:59.271092Z",
     "start_time": "2025-09-07T18:55:59.269630Z"
    }
   },
   "outputs": [],
   "source": []
  },
  {
   "cell_type": "markdown",
   "metadata": {},
   "source": [
    "\n",
    "\n",
    "---\n",
    "$\\color{blue}{\\text{Ejercicio 6}}$: Usando el procedimiento descripto arriba, calcular $\\langle\\sigma_{x}\\rangle_{exp}$ y $\\langle\\sigma_{y}\\rangle_{exp}$ para distintos números de shots y comparar con las predicciones teóricas. Es decir, repitan el Ejercicio 4 para las direcciones $x$ e $y$. ¿Notan alguna diferencia?\n",
    "\n",
    "$\\color{green}{\\text{AYUDA}}$: para realizar las rotaciones que requiere el procedimiento, deben aplicar al circuito original ciertas matrices unitarias (para \"rotar\" el estado $\\rho$). Para la dirección $x$, la rotación equivale a aplicarle al circuito una compuerta $H$ (Hadamard), y para la dirección $y$, deben aplicar lasa compuertas $S^{\\dagger}$ y $H$. Calcular los valores medios de $\\langle\\sigma_{x}\\rangle$, $\\langle\\sigma_{y}\\rangle$ y $\\langle\\sigma_{z}\\rangle$.\n",
    "\n",
    "\n"
   ]
  },
  {
   "cell_type": "code",
   "execution_count": 13,
   "metadata": {
    "ExecuteTime": {
     "end_time": "2025-09-07T18:55:59.388954Z",
     "start_time": "2025-09-07T18:55:59.319890Z"
    }
   },
   "outputs": [
    {
     "name": "stdout",
     "output_type": "stream",
     "text": [
      "     ┌───┐┌───┐┌─┐\n",
      "  q: ┤ H ├┤ H ├┤M├\n",
      "     └───┘└───┘└╥┘\n",
      "c: 1/═══════════╩═\n",
      "                0 \n"
     ]
    },
    {
     "data": {
      "text/latex": [
       "$\\displaystyle \\ket{\\psi'} = \\left[\\begin{matrix}1.0\\\\0\\end{matrix}\\right]$"
      ],
      "text/plain": [
       "<IPython.core.display.Math object>"
      ]
     },
     "jetTransient": {
      "display_id": null
     },
     "metadata": {},
     "output_type": "display_data"
    },
    {
     "data": {
      "text/plain": [
       "'#obvio, volvió a \\\\ket{0}'"
      ]
     },
     "jetTransient": {
      "display_id": null
     },
     "metadata": {},
     "output_type": "display_data"
    },
    {
     "data": {
      "text/latex": [
       "$\\displaystyle P_{\\lambda_1} = 1.00000000000000$"
      ],
      "text/plain": [
       "<IPython.core.display.Math object>"
      ]
     },
     "jetTransient": {
      "display_id": null
     },
     "metadata": {},
     "output_type": "display_data"
    },
    {
     "data": {
      "text/latex": [
       "$\\displaystyle P_{\\lambda_2} = 0$"
      ],
      "text/plain": [
       "<IPython.core.display.Math object>"
      ]
     },
     "jetTransient": {
      "display_id": null
     },
     "metadata": {},
     "output_type": "display_data"
    },
    {
     "data": {
      "text/plain": [
       "'-[ ] revisar: daba 2 porque me olvidé de rotar? :/'"
      ]
     },
     "jetTransient": {
      "display_id": null
     },
     "metadata": {},
     "output_type": "display_data"
    }
   ],
   "source": [
    "# vamos con \\hat{x}, que San Penrose nos ayude...\n",
    "\n",
    "\n",
    "from IPython.display import display, Math, Latex, display_markdown\n",
    "import sympy as sp\n",
    "import qiskit  as qk\n",
    "import qiskit_aer as qk_aer\n",
    "import numpy as np\n",
    "import math\n",
    "\n",
    "circ = qk.QuantumCircuit(1,1)\n",
    "circ.h(0)\n",
    "circ.h(0) #esto es simular \\hat{X} ... pero va a volver a \\ket{0} :/\n",
    "circ.measure(0,0)\n",
    "print(circ.draw())\n",
    "\n",
    "\n",
    "psi=sp.Matrix([[1],[0]])\n",
    "psi=sp.Matrix(qk.circuit.library.HGate().to_matrix())*psi\n",
    "rho=(psi*psi.transpose().conjugate())\n",
    "rho_12=rho[0,1]\n",
    "mediaSigmaX=2*complex(rho_12).real # fómula de la pregunta 2\n",
    "\n",
    "psi=sp.Matrix(qk.circuit.library.HGate().to_matrix())*psi #rotacion para \\rho'\n",
    "rhoRotado=(psi*psi.transpose().conjugate())\n",
    "display(Math(r\"\\ket{\\psi'} = \"+sp.latex(psi)))\n",
    "display(\"#obvio, volvió a \\ket{0}\")\n",
    "\n",
    "ketcero=sp.Matrix([[1],[0]])\n",
    "ketuno=sp.Matrix([[0],[1]])\n",
    "\n",
    "PlambdaUno=rhoRotado*(ketcero*ketcero.H) #contd\n",
    "PlambdaUno=PlambdaUno.trace()\n",
    "display(Math(r\"P_{\\lambda_1} = \"+str(PlambdaUno)))\n",
    "PlambdaDos=rhoRotado*(ketuno*ketuno.H) #contd\n",
    "PlambdaDos=PlambdaDos.trace()\n",
    "display(Math(r\"P_{\\lambda_2} = \"+str(PlambdaDos)))\n",
    "display(r\"-[ ] revisar: daba 2 porque me olvidé de rotar? :/\")\n",
    "display()\n",
    "display()"
   ]
  },
  {
   "cell_type": "code",
   "execution_count": 14,
   "metadata": {
    "ExecuteTime": {
     "end_time": "2025-09-07T18:56:06.755984Z",
     "start_time": "2025-09-07T18:55:59.435020Z"
    }
   },
   "outputs": [
    {
     "data": {
      "text/html": [
       "<div>\n",
       "<style scoped>\n",
       "    .dataframe tbody tr th:only-of-type {\n",
       "        vertical-align: middle;\n",
       "    }\n",
       "\n",
       "    .dataframe tbody tr th {\n",
       "        vertical-align: top;\n",
       "    }\n",
       "\n",
       "    .dataframe thead th {\n",
       "        text-align: right;\n",
       "    }\n",
       "</style>\n",
       "<table border=\"1\" class=\"dataframe\">\n",
       "  <thead>\n",
       "    <tr style=\"text-align: right;\">\n",
       "      <th></th>\n",
       "      <th>shots</th>\n",
       "      <th>n_1</th>\n",
       "      <th>n_0</th>\n",
       "      <th>sigmaXexp</th>\n",
       "      <th>PexpLambda1</th>\n",
       "      <th>PexpLambda2</th>\n",
       "      <th>errorPlambda1pct</th>\n",
       "      <th>errorPlambda2pct</th>\n",
       "    </tr>\n",
       "  </thead>\n",
       "  <tbody>\n",
       "    <tr>\n",
       "      <th>0</th>\n",
       "      <td>10.0</td>\n",
       "      <td>0</td>\n",
       "      <td>10</td>\n",
       "      <td>-1.0</td>\n",
       "      <td>0.0</td>\n",
       "      <td>1.0</td>\n",
       "      <td>100</td>\n",
       "      <td>oo</td>\n",
       "    </tr>\n",
       "    <tr>\n",
       "      <th>1</th>\n",
       "      <td>100.0</td>\n",
       "      <td>0</td>\n",
       "      <td>100</td>\n",
       "      <td>-1.0</td>\n",
       "      <td>0.0</td>\n",
       "      <td>1.0</td>\n",
       "      <td>100</td>\n",
       "      <td>oo</td>\n",
       "    </tr>\n",
       "    <tr>\n",
       "      <th>2</th>\n",
       "      <td>1000.0</td>\n",
       "      <td>0</td>\n",
       "      <td>1000</td>\n",
       "      <td>-1.0</td>\n",
       "      <td>0.0</td>\n",
       "      <td>1.0</td>\n",
       "      <td>100</td>\n",
       "      <td>oo</td>\n",
       "    </tr>\n",
       "    <tr>\n",
       "      <th>3</th>\n",
       "      <td>10000.0</td>\n",
       "      <td>0</td>\n",
       "      <td>10000</td>\n",
       "      <td>-1.0</td>\n",
       "      <td>0.0</td>\n",
       "      <td>1.0</td>\n",
       "      <td>100</td>\n",
       "      <td>oo</td>\n",
       "    </tr>\n",
       "    <tr>\n",
       "      <th>4</th>\n",
       "      <td>10000000.0</td>\n",
       "      <td>0</td>\n",
       "      <td>10000000</td>\n",
       "      <td>-1.0</td>\n",
       "      <td>0.0</td>\n",
       "      <td>1.0</td>\n",
       "      <td>100</td>\n",
       "      <td>oo</td>\n",
       "    </tr>\n",
       "  </tbody>\n",
       "</table>\n",
       "</div>"
      ],
      "text/plain": [
       "        shots  n_1       n_0  sigmaXexp  PexpLambda1  PexpLambda2  \\\n",
       "0        10.0    0        10       -1.0          0.0          1.0   \n",
       "1       100.0    0       100       -1.0          0.0          1.0   \n",
       "2      1000.0    0      1000       -1.0          0.0          1.0   \n",
       "3     10000.0    0     10000       -1.0          0.0          1.0   \n",
       "4  10000000.0    0  10000000       -1.0          0.0          1.0   \n",
       "\n",
       "  errorPlambda1pct errorPlambda2pct  \n",
       "0              100               oo  \n",
       "1              100               oo  \n",
       "2              100               oo  \n",
       "3              100               oo  \n",
       "4              100               oo  "
      ]
     },
     "execution_count": 14,
     "metadata": {},
     "output_type": "execute_result"
    }
   ],
   "source": [
    "\n",
    "import pandas as pd\n",
    "\n",
    "df_columns=[\"shots\", \"n_1\", \"n_0\", \"sigmaXexp\", \"PexpLambda1\", \"PexpLambda2\",\"errorPlambda1pct\",\"errorPlambda2pct\"]\n",
    "\n",
    "#shots_lst=10,100,1000,10000,1e7\n",
    "corridas=list()\n",
    "\n",
    "simulador = qk_aer.AerSimulator()\n",
    "\n",
    "\n",
    "for shots in shots_lst:\n",
    "    _=simulador.run(circ, shots = shots).result()\n",
    "    corridas.append((shots, # ver df_columns\n",
    "        _.get_counts().get(\"1\",0),\n",
    "        _.get_counts().get(\"0\",0),\n",
    "        (_.get_counts().get(\"1\",0)-_.get_counts().get(\"0\",0))/shots,\n",
    "        _.get_counts().get(\"1\",0)/shots,\n",
    "        _.get_counts().get(\"0\",0)/shots,\n",
    "        abs(_.get_counts().get(\"1\",0)/shots/PlambdaUno-1)*100, # error porcentual\n",
    "        abs(_.get_counts().get(\"0\",0)/shots/PlambdaDos-1)*100,)) # error porcentual\n",
    "\n",
    "\n",
    "df = pd.DataFrame(columns=df_columns, data=corridas)\n",
    "df"
   ]
  },
  {
   "cell_type": "code",
   "execution_count": 15,
   "metadata": {
    "ExecuteTime": {
     "end_time": "2025-09-07T18:56:06.868041Z",
     "start_time": "2025-09-07T18:56:06.856814Z"
    }
   },
   "outputs": [
    {
     "data": {
      "text/html": [
       "<div>\n",
       "<style scoped>\n",
       "    .dataframe tbody tr th:only-of-type {\n",
       "        vertical-align: middle;\n",
       "    }\n",
       "\n",
       "    .dataframe tbody tr th {\n",
       "        vertical-align: top;\n",
       "    }\n",
       "\n",
       "    .dataframe thead th {\n",
       "        text-align: right;\n",
       "    }\n",
       "</style>\n",
       "<table border=\"1\" class=\"dataframe\">\n",
       "  <thead>\n",
       "    <tr style=\"text-align: right;\">\n",
       "      <th></th>\n",
       "      <th>shots</th>\n",
       "      <th>sigmaZexp</th>\n",
       "      <th>errorPlambda1pct_z</th>\n",
       "      <th>errorPlambda2pct_z</th>\n",
       "      <th>sigmaXexp</th>\n",
       "      <th>errorPlambda1pct_x</th>\n",
       "      <th>errorPlambda2pct_x</th>\n",
       "    </tr>\n",
       "  </thead>\n",
       "  <tbody>\n",
       "    <tr>\n",
       "      <th>0</th>\n",
       "      <td>10.0</td>\n",
       "      <td>0.000000</td>\n",
       "      <td>2.22044604925031e-14</td>\n",
       "      <td>2.22044604925031e-14</td>\n",
       "      <td>-1.0</td>\n",
       "      <td>100</td>\n",
       "      <td>oo</td>\n",
       "    </tr>\n",
       "    <tr>\n",
       "      <th>1</th>\n",
       "      <td>100.0</td>\n",
       "      <td>0.080000</td>\n",
       "      <td>8.00000000000003</td>\n",
       "      <td>7.99999999999997</td>\n",
       "      <td>-1.0</td>\n",
       "      <td>100</td>\n",
       "      <td>oo</td>\n",
       "    </tr>\n",
       "    <tr>\n",
       "      <th>2</th>\n",
       "      <td>1000.0</td>\n",
       "      <td>-0.050000</td>\n",
       "      <td>4.99999999999998</td>\n",
       "      <td>5.00000000000003</td>\n",
       "      <td>-1.0</td>\n",
       "      <td>100</td>\n",
       "      <td>oo</td>\n",
       "    </tr>\n",
       "    <tr>\n",
       "      <th>3</th>\n",
       "      <td>10000.0</td>\n",
       "      <td>0.015600</td>\n",
       "      <td>1.56000000000003</td>\n",
       "      <td>1.55999999999997</td>\n",
       "      <td>-1.0</td>\n",
       "      <td>100</td>\n",
       "      <td>oo</td>\n",
       "    </tr>\n",
       "    <tr>\n",
       "      <th>4</th>\n",
       "      <td>10000000.0</td>\n",
       "      <td>-0.000303</td>\n",
       "      <td>0.0303399999999732</td>\n",
       "      <td>0.0303400000000176</td>\n",
       "      <td>-1.0</td>\n",
       "      <td>100</td>\n",
       "      <td>oo</td>\n",
       "    </tr>\n",
       "  </tbody>\n",
       "</table>\n",
       "</div>"
      ],
      "text/plain": [
       "        shots  sigmaZexp    errorPlambda1pct_z    errorPlambda2pct_z  \\\n",
       "0        10.0   0.000000  2.22044604925031e-14  2.22044604925031e-14   \n",
       "1       100.0   0.080000      8.00000000000003      7.99999999999997   \n",
       "2      1000.0  -0.050000      4.99999999999998      5.00000000000003   \n",
       "3     10000.0   0.015600      1.56000000000003      1.55999999999997   \n",
       "4  10000000.0  -0.000303    0.0303399999999732    0.0303400000000176   \n",
       "\n",
       "   sigmaXexp errorPlambda1pct_x errorPlambda2pct_x  \n",
       "0       -1.0                100                 oo  \n",
       "1       -1.0                100                 oo  \n",
       "2       -1.0                100                 oo  \n",
       "3       -1.0                100                 oo  \n",
       "4       -1.0                100                 oo  "
      ]
     },
     "execution_count": 15,
     "metadata": {},
     "output_type": "execute_result"
    }
   ],
   "source": [
    "# guardo sigmaXexp para la rta7\n",
    "df_rta7 = df_rta7.merge(df[[\"shots\", \"sigmaXexp\", \"errorPlambda1pct\", \"errorPlambda2pct\"]].copy(),\n",
    "                        on=\"shots\",\n",
    "                        how=\"left\",\n",
    "                        suffixes=(None,None))\n",
    "df_rta7.rename(columns={\"errorPlambda1pct\": \"errorPlambda1pct_x\",\"errorPlambda2pct\": \"errorPlambda2pct_x\",}, inplace=True)\n",
    "\n",
    "df_rta7"
   ]
  },
  {
   "cell_type": "code",
   "execution_count": 16,
   "metadata": {
    "ExecuteTime": {
     "end_time": "2025-09-07T18:56:07.132141Z",
     "start_time": "2025-09-07T18:56:07.130243Z"
    }
   },
   "outputs": [],
   "source": [
    "#df_rta7.columns"
   ]
  },
  {
   "cell_type": "markdown",
   "metadata": {},
   "source": [
    "como era de esperar, todas las mediciones colapsan al primer autovector del operador $\\sigma_z$ pq las compuertas son unitarias, por lo tanto son reversibles, al rotar el estado $\\rho$ con la misma H() q usamos en el circuito para obtener el $\\ket{+}$ original, volvimos a $\\ket{0}$\n",
    "\n",
    "Ahora seguimos con $\\hat{y}$:\n",
    "\n"
   ]
  },
  {
   "cell_type": "code",
   "execution_count": null,
   "metadata": {
    "ExecuteTime": {
     "end_time": "2025-09-07T18:56:07.216762Z",
     "start_time": "2025-09-07T18:56:07.215409Z"
    }
   },
   "outputs": [],
   "source": []
  },
  {
   "cell_type": "code",
   "execution_count": 17,
   "metadata": {
    "ExecuteTime": {
     "end_time": "2025-09-07T18:56:14.684514Z",
     "start_time": "2025-09-07T18:56:07.246874Z"
    }
   },
   "outputs": [
    {
     "name": "stdout",
     "output_type": "stream",
     "text": [
      "     ┌───┐┌─────┐┌───┐┌─┐\n",
      "  q: ┤ H ├┤ Sdg ├┤ H ├┤M├\n",
      "     └───┘└─────┘└───┘└╥┘\n",
      "c: 1/══════════════════╩═\n",
      "                       0 \n"
     ]
    },
    {
     "data": {
      "text/latex": [
       "$\\displaystyle \\ket{\\psi'} = \\left[\\begin{matrix}0.5 - 0.5 i\\\\0.5 + 0.5 i\\end{matrix}\\right]$"
      ],
      "text/plain": [
       "<IPython.core.display.Math object>"
      ]
     },
     "jetTransient": {
      "display_id": null
     },
     "metadata": {},
     "output_type": "display_data"
    },
    {
     "data": {
      "text/latex": [
       "$\\displaystyle P_{\\lambda_1} = 0.500000000000000$"
      ],
      "text/plain": [
       "<IPython.core.display.Math object>"
      ]
     },
     "jetTransient": {
      "display_id": null
     },
     "metadata": {},
     "output_type": "display_data"
    },
    {
     "data": {
      "text/latex": [
       "$\\displaystyle P_{\\lambda_2} = 0.500000000000000$"
      ],
      "text/plain": [
       "<IPython.core.display.Math object>"
      ]
     },
     "jetTransient": {
      "display_id": null
     },
     "metadata": {},
     "output_type": "display_data"
    },
    {
     "data": {
      "text/html": [
       "<div>\n",
       "<style scoped>\n",
       "    .dataframe tbody tr th:only-of-type {\n",
       "        vertical-align: middle;\n",
       "    }\n",
       "\n",
       "    .dataframe tbody tr th {\n",
       "        vertical-align: top;\n",
       "    }\n",
       "\n",
       "    .dataframe thead th {\n",
       "        text-align: right;\n",
       "    }\n",
       "</style>\n",
       "<table border=\"1\" class=\"dataframe\">\n",
       "  <thead>\n",
       "    <tr style=\"text-align: right;\">\n",
       "      <th></th>\n",
       "      <th>shots</th>\n",
       "      <th>n_1</th>\n",
       "      <th>n_0</th>\n",
       "      <th>sigmaYexp</th>\n",
       "      <th>PexpLambda1</th>\n",
       "      <th>PexpLambda2</th>\n",
       "      <th>errorPlambda1pct</th>\n",
       "      <th>errorPlambda2pct</th>\n",
       "    </tr>\n",
       "  </thead>\n",
       "  <tbody>\n",
       "    <tr>\n",
       "      <th>0</th>\n",
       "      <td>10.0</td>\n",
       "      <td>2</td>\n",
       "      <td>8</td>\n",
       "      <td>-0.60000</td>\n",
       "      <td>0.200000</td>\n",
       "      <td>0.800000</td>\n",
       "      <td>60.0000000000000</td>\n",
       "      <td>60.0000000000001</td>\n",
       "    </tr>\n",
       "    <tr>\n",
       "      <th>1</th>\n",
       "      <td>100.0</td>\n",
       "      <td>47</td>\n",
       "      <td>53</td>\n",
       "      <td>-0.06000</td>\n",
       "      <td>0.470000</td>\n",
       "      <td>0.530000</td>\n",
       "      <td>5.99999999999996</td>\n",
       "      <td>6.00000000000005</td>\n",
       "    </tr>\n",
       "    <tr>\n",
       "      <th>2</th>\n",
       "      <td>1000.0</td>\n",
       "      <td>508</td>\n",
       "      <td>492</td>\n",
       "      <td>0.01600</td>\n",
       "      <td>0.508000</td>\n",
       "      <td>0.492000</td>\n",
       "      <td>1.60000000000005</td>\n",
       "      <td>1.59999999999996</td>\n",
       "    </tr>\n",
       "    <tr>\n",
       "      <th>3</th>\n",
       "      <td>10000.0</td>\n",
       "      <td>5116</td>\n",
       "      <td>4884</td>\n",
       "      <td>0.02320</td>\n",
       "      <td>0.511600</td>\n",
       "      <td>0.488400</td>\n",
       "      <td>2.32000000000006</td>\n",
       "      <td>2.31999999999996</td>\n",
       "    </tr>\n",
       "    <tr>\n",
       "      <th>4</th>\n",
       "      <td>10000000.0</td>\n",
       "      <td>5002052</td>\n",
       "      <td>4997948</td>\n",
       "      <td>0.00041</td>\n",
       "      <td>0.500205</td>\n",
       "      <td>0.499795</td>\n",
       "      <td>0.0410400000000477</td>\n",
       "      <td>0.0410399999999589</td>\n",
       "    </tr>\n",
       "  </tbody>\n",
       "</table>\n",
       "</div>"
      ],
      "text/plain": [
       "        shots      n_1      n_0  sigmaYexp  PexpLambda1  PexpLambda2  \\\n",
       "0        10.0        2        8   -0.60000     0.200000     0.800000   \n",
       "1       100.0       47       53   -0.06000     0.470000     0.530000   \n",
       "2      1000.0      508      492    0.01600     0.508000     0.492000   \n",
       "3     10000.0     5116     4884    0.02320     0.511600     0.488400   \n",
       "4  10000000.0  5002052  4997948    0.00041     0.500205     0.499795   \n",
       "\n",
       "     errorPlambda1pct    errorPlambda2pct  \n",
       "0    60.0000000000000    60.0000000000001  \n",
       "1    5.99999999999996    6.00000000000005  \n",
       "2    1.60000000000005    1.59999999999996  \n",
       "3    2.32000000000006    2.31999999999996  \n",
       "4  0.0410400000000477  0.0410399999999589  "
      ]
     },
     "execution_count": 17,
     "metadata": {},
     "output_type": "execute_result"
    }
   ],
   "source": [
    "# vamos con \\hat{y}, y que San Bertrand Russell nos ilumine...\n",
    "\n",
    "\n",
    "from IPython.display import display, Math, Latex, display_markdown\n",
    "import sympy as sp\n",
    "import qiskit  as qk\n",
    "import qiskit_aer as qk_aer\n",
    "import numpy as np\n",
    "import math\n",
    "\n",
    "circ = qk.QuantumCircuit(1,1)\n",
    "circ.h(0)\n",
    "#lo que sigue es simular \\hat{Y}\n",
    "circ.sdg(0) # https://quantum.cloud.ibm.com/docs/en/api/qiskit/qiskit.circuit.library.SdgGate\n",
    "circ.h(0)\n",
    "circ.measure(0,0)\n",
    "print(circ.draw())\n",
    "\n",
    "\n",
    "psi=sp.Matrix([[1],[0]])\n",
    "psi=sp.Matrix(qk.circuit.library.HGate().to_matrix())*psi\n",
    "rho=(psi*psi.transpose().conjugate())\n",
    "rho_12=rho[0,1]\n",
    "mediaSigmaY=2*complex(rho_12).imag # fómula de la pregunta 2\n",
    "\n",
    "psi=sp.Matrix(qk.circuit.library.SdgGate().to_matrix())*psi #rotacion para \\rho'\n",
    "psi=sp.Matrix(qk.circuit.library.HGate().to_matrix())*psi #rotacion para \\rho'\n",
    "rhoRotado=(psi*psi.transpose().conjugate())\n",
    "display(Math(r\"\\ket{\\psi'} = \"+sp.latex(psi)))\n",
    "\n",
    "ketcero=sp.Matrix([[1],[0]])\n",
    "ketuno=sp.Matrix([[0],[1]])\n",
    "\n",
    "PlambdaUno=rhoRotado*(ketcero*ketcero.H) #contd\n",
    "PlambdaUno=PlambdaUno.trace()\n",
    "PlambdaUno = (rhoRotado * (ketcero * ketcero.H)).trace()\n",
    "PlambdaUno = PlambdaUno.simplify()\n",
    "display(Math(r\"P_{\\lambda_1} = \"+str(PlambdaUno)))\n",
    "PlambdaDos=rhoRotado*(ketuno*ketuno.H) #contd\n",
    "PlambdaDos=PlambdaDos.trace()\n",
    "PlambdaDos=PlambdaDos.simplify()\n",
    "display(Math(r\"P_{\\lambda_2} = \"+str(PlambdaDos)))\n",
    "display()\n",
    "display()\n",
    "import pandas as pd\n",
    "\n",
    "df_columns=[\"shots\", \"n_1\", \"n_0\", \"sigmaYexp\", \"PexpLambda1\", \"PexpLambda2\",\"errorPlambda1pct\",\"errorPlambda2pct\"]\n",
    "#shots_lst=10,100,1000,10000,1e7 mandado a las primeras celdas como global\n",
    "corridas=list()\n",
    "\n",
    "simulador = qk_aer.AerSimulator()\n",
    "\n",
    "\n",
    "for shots in shots_lst:\n",
    "    _=simulador.run(circ, shots = shots).result()\n",
    "    corridas.append((shots, # ver df_columns\n",
    "        _.get_counts().get(\"1\",0),\n",
    "        _.get_counts().get(\"0\",0),\n",
    "        (_.get_counts().get(\"1\",0)-_.get_counts().get(\"0\",0))/shots,\n",
    "        _.get_counts().get(\"1\",0)/shots,\n",
    "        _.get_counts().get(\"0\",0)/shots,\n",
    "        abs(_.get_counts().get(\"1\",0)/shots/PlambdaUno-1)*100, # error porcentual\n",
    "        abs(_.get_counts().get(\"0\",0)/shots/PlambdaDos-1)*100,)) # error porcentual\n",
    "\n",
    "\n",
    "df = pd.DataFrame(columns=df_columns, data=corridas)\n",
    "df"
   ]
  },
  {
   "cell_type": "code",
   "execution_count": 18,
   "metadata": {
    "ExecuteTime": {
     "end_time": "2025-09-07T18:56:14.876953Z",
     "start_time": "2025-09-07T18:56:14.867213Z"
    }
   },
   "outputs": [
    {
     "data": {
      "text/html": [
       "<div>\n",
       "<style scoped>\n",
       "    .dataframe tbody tr th:only-of-type {\n",
       "        vertical-align: middle;\n",
       "    }\n",
       "\n",
       "    .dataframe tbody tr th {\n",
       "        vertical-align: top;\n",
       "    }\n",
       "\n",
       "    .dataframe thead th {\n",
       "        text-align: right;\n",
       "    }\n",
       "</style>\n",
       "<table border=\"1\" class=\"dataframe\">\n",
       "  <thead>\n",
       "    <tr style=\"text-align: right;\">\n",
       "      <th></th>\n",
       "      <th>shots</th>\n",
       "      <th>sigmaZexp</th>\n",
       "      <th>errorPlambda1pct_z</th>\n",
       "      <th>errorPlambda2pct_z</th>\n",
       "      <th>sigmaXexp</th>\n",
       "      <th>errorPlambda1pct_x</th>\n",
       "      <th>errorPlambda2pct_x</th>\n",
       "      <th>sigmaYexp</th>\n",
       "      <th>errorPlambda1pct_y</th>\n",
       "      <th>errorPlambda2pct_y</th>\n",
       "    </tr>\n",
       "  </thead>\n",
       "  <tbody>\n",
       "    <tr>\n",
       "      <th>0</th>\n",
       "      <td>10.0</td>\n",
       "      <td>0.000000</td>\n",
       "      <td>2.22044604925031e-14</td>\n",
       "      <td>2.22044604925031e-14</td>\n",
       "      <td>-1.0</td>\n",
       "      <td>100</td>\n",
       "      <td>oo</td>\n",
       "      <td>-0.60000</td>\n",
       "      <td>60.0000000000000</td>\n",
       "      <td>60.0000000000001</td>\n",
       "    </tr>\n",
       "    <tr>\n",
       "      <th>1</th>\n",
       "      <td>100.0</td>\n",
       "      <td>0.080000</td>\n",
       "      <td>8.00000000000003</td>\n",
       "      <td>7.99999999999997</td>\n",
       "      <td>-1.0</td>\n",
       "      <td>100</td>\n",
       "      <td>oo</td>\n",
       "      <td>-0.06000</td>\n",
       "      <td>5.99999999999996</td>\n",
       "      <td>6.00000000000005</td>\n",
       "    </tr>\n",
       "    <tr>\n",
       "      <th>2</th>\n",
       "      <td>1000.0</td>\n",
       "      <td>-0.050000</td>\n",
       "      <td>4.99999999999998</td>\n",
       "      <td>5.00000000000003</td>\n",
       "      <td>-1.0</td>\n",
       "      <td>100</td>\n",
       "      <td>oo</td>\n",
       "      <td>0.01600</td>\n",
       "      <td>1.60000000000005</td>\n",
       "      <td>1.59999999999996</td>\n",
       "    </tr>\n",
       "    <tr>\n",
       "      <th>3</th>\n",
       "      <td>10000.0</td>\n",
       "      <td>0.015600</td>\n",
       "      <td>1.56000000000003</td>\n",
       "      <td>1.55999999999997</td>\n",
       "      <td>-1.0</td>\n",
       "      <td>100</td>\n",
       "      <td>oo</td>\n",
       "      <td>0.02320</td>\n",
       "      <td>2.32000000000006</td>\n",
       "      <td>2.31999999999996</td>\n",
       "    </tr>\n",
       "    <tr>\n",
       "      <th>4</th>\n",
       "      <td>10000000.0</td>\n",
       "      <td>-0.000303</td>\n",
       "      <td>0.0303399999999732</td>\n",
       "      <td>0.0303400000000176</td>\n",
       "      <td>-1.0</td>\n",
       "      <td>100</td>\n",
       "      <td>oo</td>\n",
       "      <td>0.00041</td>\n",
       "      <td>0.0410400000000477</td>\n",
       "      <td>0.0410399999999589</td>\n",
       "    </tr>\n",
       "  </tbody>\n",
       "</table>\n",
       "</div>"
      ],
      "text/plain": [
       "        shots  sigmaZexp    errorPlambda1pct_z    errorPlambda2pct_z  \\\n",
       "0        10.0   0.000000  2.22044604925031e-14  2.22044604925031e-14   \n",
       "1       100.0   0.080000      8.00000000000003      7.99999999999997   \n",
       "2      1000.0  -0.050000      4.99999999999998      5.00000000000003   \n",
       "3     10000.0   0.015600      1.56000000000003      1.55999999999997   \n",
       "4  10000000.0  -0.000303    0.0303399999999732    0.0303400000000176   \n",
       "\n",
       "   sigmaXexp errorPlambda1pct_x errorPlambda2pct_x  sigmaYexp  \\\n",
       "0       -1.0                100                 oo   -0.60000   \n",
       "1       -1.0                100                 oo   -0.06000   \n",
       "2       -1.0                100                 oo    0.01600   \n",
       "3       -1.0                100                 oo    0.02320   \n",
       "4       -1.0                100                 oo    0.00041   \n",
       "\n",
       "   errorPlambda1pct_y  errorPlambda2pct_y  \n",
       "0    60.0000000000000    60.0000000000001  \n",
       "1    5.99999999999996    6.00000000000005  \n",
       "2    1.60000000000005    1.59999999999996  \n",
       "3    2.32000000000006    2.31999999999996  \n",
       "4  0.0410400000000477  0.0410399999999589  "
      ]
     },
     "execution_count": 18,
     "metadata": {},
     "output_type": "execute_result"
    }
   ],
   "source": [
    "# guardo sigmaYexp para la rta7\n",
    "df_rta7 = df_rta7.merge(df[[\"shots\", \"sigmaYexp\", \"errorPlambda1pct\", \"errorPlambda2pct\"]].copy(),\n",
    "                        on=\"shots\",\n",
    "                        how=\"left\",\n",
    "                        suffixes=(None,None))\n",
    "df_rta7.rename(columns={\"errorPlambda1pct\": \"errorPlambda1pct_y\",\"errorPlambda2pct\": \"errorPlambda2pct_y\",}, inplace=True)\n",
    "\n",
    "df_rta7"
   ]
  },
  {
   "cell_type": "markdown",
   "metadata": {},
   "source": [
    "Conlusiones: como era de esperar: el estado $\\ket{+} $\n",
    "\n",
    "\n",
    "---\n",
    "\n",
    "."
   ]
  },
  {
   "attachments": {},
   "cell_type": "markdown",
   "metadata": {},
   "source": [
    "$\\color{blue}{\\text{Ejercicio 7}}$: Utilizar las ecuaciones del Ejercicio 2 para calcular $\\rho_{exp}$ para distintos números de shots. Es decir, para cada valor de $N$, calcular $\\langle\\sigma_{x}\\rangle_{exp}$, $\\langle\\sigma_{y}\\rangle_{exp}$ y $\\langle\\sigma_{z}\\rangle_{exp}$, resolver las ecuaciones del Ejercicio 2 (despejando $a$, $\\Re c$ e $\\Im c$ a partir de $\\langle\\sigma_{x}\\rangle_{exp}$, $\\langle\\sigma_{y}\\rangle_{exp}$ y $\\langle\\sigma_{z}\\rangle_{exp}$), expresar la matriz:\n",
    "\n",
    "$$\\rho_{exp} = \\begin{pmatrix}\n",
    "a & \\Re c + i \\Im c \\\\\n",
    "\\Re c - i \\Im c & 1-a\n",
    "\\end{pmatrix}$$\n",
    "\n",
    "$\\color{green}{\\text{AYUDA}}$: Se puede resolver el sistema de ecuaciones lineales a mano, o usando la función de Python:\n",
    "\n",
    "https://numpy.org/doc/stable/reference/generated/numpy.linalg.solve.html\n",
    "\n",
    "---\n",
    "\n",
    "## $\\color{blue}{\\text{Respuesta 7}}$:\n",
    "\n",
    "de la respuesta 2, sabemos que:\n",
    "\n",
    "$$ \\langle\\sigma_{x}\\rangle = 2Re(c) $$\n",
    "\n",
    "$$ \\langle\\sigma_{y}\\rangle = 2Im(c) $$\n",
    "\n",
    "$$ \\langle\\sigma_{z}\\rangle =  2a-1 $$\n"
   ]
  },
  {
   "cell_type": "code",
   "execution_count": 19,
   "metadata": {
    "ExecuteTime": {
     "end_time": "2025-09-07T18:56:15.068924Z",
     "start_time": "2025-09-07T18:56:15.050508Z"
    }
   },
   "outputs": [
    {
     "data": {
      "text/html": [
       "<div>\n",
       "<style scoped>\n",
       "    .dataframe tbody tr th:only-of-type {\n",
       "        vertical-align: middle;\n",
       "    }\n",
       "\n",
       "    .dataframe tbody tr th {\n",
       "        vertical-align: top;\n",
       "    }\n",
       "\n",
       "    .dataframe thead th {\n",
       "        text-align: right;\n",
       "    }\n",
       "</style>\n",
       "<table border=\"1\" class=\"dataframe\">\n",
       "  <thead>\n",
       "    <tr style=\"text-align: right;\">\n",
       "      <th></th>\n",
       "      <th>shots</th>\n",
       "      <th>sigmaZexp</th>\n",
       "      <th>errorPlambda1pct_z</th>\n",
       "      <th>errorPlambda2pct_z</th>\n",
       "      <th>sigmaXexp</th>\n",
       "      <th>errorPlambda1pct_x</th>\n",
       "      <th>errorPlambda2pct_x</th>\n",
       "      <th>sigmaYexp</th>\n",
       "      <th>errorPlambda1pct_y</th>\n",
       "      <th>errorPlambda2pct_y</th>\n",
       "      <th>rho_a</th>\n",
       "      <th>rho_c</th>\n",
       "      <th>rhoExp</th>\n",
       "    </tr>\n",
       "  </thead>\n",
       "  <tbody>\n",
       "    <tr>\n",
       "      <th>0</th>\n",
       "      <td>10.0</td>\n",
       "      <td>0.000000</td>\n",
       "      <td>2.22044604925031e-14</td>\n",
       "      <td>2.22044604925031e-14</td>\n",
       "      <td>-1.0</td>\n",
       "      <td>100</td>\n",
       "      <td>oo</td>\n",
       "      <td>-0.60000</td>\n",
       "      <td>60.0000000000000</td>\n",
       "      <td>60.0000000000001</td>\n",
       "      <td>0.500000</td>\n",
       "      <td>-0.500000-0.300000j</td>\n",
       "      <td>[0.500000000000000, -0.5 - 0.3*I, -0.5 + 0.3*I...</td>\n",
       "    </tr>\n",
       "    <tr>\n",
       "      <th>1</th>\n",
       "      <td>100.0</td>\n",
       "      <td>0.080000</td>\n",
       "      <td>8.00000000000003</td>\n",
       "      <td>7.99999999999997</td>\n",
       "      <td>-1.0</td>\n",
       "      <td>100</td>\n",
       "      <td>oo</td>\n",
       "      <td>-0.06000</td>\n",
       "      <td>5.99999999999996</td>\n",
       "      <td>6.00000000000005</td>\n",
       "      <td>0.540000</td>\n",
       "      <td>-0.500000-0.030000j</td>\n",
       "      <td>[0.540000000000000, -0.5 - 0.03*I, -0.5 + 0.03...</td>\n",
       "    </tr>\n",
       "    <tr>\n",
       "      <th>2</th>\n",
       "      <td>1000.0</td>\n",
       "      <td>-0.050000</td>\n",
       "      <td>4.99999999999998</td>\n",
       "      <td>5.00000000000003</td>\n",
       "      <td>-1.0</td>\n",
       "      <td>100</td>\n",
       "      <td>oo</td>\n",
       "      <td>0.01600</td>\n",
       "      <td>1.60000000000005</td>\n",
       "      <td>1.59999999999996</td>\n",
       "      <td>0.475000</td>\n",
       "      <td>-0.500000+0.008000j</td>\n",
       "      <td>[0.475000000000000, -0.5 + 0.008*I, -0.5 - 0.0...</td>\n",
       "    </tr>\n",
       "    <tr>\n",
       "      <th>3</th>\n",
       "      <td>10000.0</td>\n",
       "      <td>0.015600</td>\n",
       "      <td>1.56000000000003</td>\n",
       "      <td>1.55999999999997</td>\n",
       "      <td>-1.0</td>\n",
       "      <td>100</td>\n",
       "      <td>oo</td>\n",
       "      <td>0.02320</td>\n",
       "      <td>2.32000000000006</td>\n",
       "      <td>2.31999999999996</td>\n",
       "      <td>0.507800</td>\n",
       "      <td>-0.500000+0.011600j</td>\n",
       "      <td>[0.507800000000000, -0.5 + 0.0116*I, -0.5 - 0....</td>\n",
       "    </tr>\n",
       "    <tr>\n",
       "      <th>4</th>\n",
       "      <td>10000000.0</td>\n",
       "      <td>-0.000303</td>\n",
       "      <td>0.0303399999999732</td>\n",
       "      <td>0.0303400000000176</td>\n",
       "      <td>-1.0</td>\n",
       "      <td>100</td>\n",
       "      <td>oo</td>\n",
       "      <td>0.00041</td>\n",
       "      <td>0.0410400000000477</td>\n",
       "      <td>0.0410399999999589</td>\n",
       "      <td>0.499848</td>\n",
       "      <td>-0.500000+0.000205j</td>\n",
       "      <td>[0.499848300000000, -0.5 + 0.0002052*I, -0.5 -...</td>\n",
       "    </tr>\n",
       "  </tbody>\n",
       "</table>\n",
       "</div>"
      ],
      "text/plain": [
       "        shots  sigmaZexp    errorPlambda1pct_z    errorPlambda2pct_z  \\\n",
       "0        10.0   0.000000  2.22044604925031e-14  2.22044604925031e-14   \n",
       "1       100.0   0.080000      8.00000000000003      7.99999999999997   \n",
       "2      1000.0  -0.050000      4.99999999999998      5.00000000000003   \n",
       "3     10000.0   0.015600      1.56000000000003      1.55999999999997   \n",
       "4  10000000.0  -0.000303    0.0303399999999732    0.0303400000000176   \n",
       "\n",
       "   sigmaXexp errorPlambda1pct_x errorPlambda2pct_x  sigmaYexp  \\\n",
       "0       -1.0                100                 oo   -0.60000   \n",
       "1       -1.0                100                 oo   -0.06000   \n",
       "2       -1.0                100                 oo    0.01600   \n",
       "3       -1.0                100                 oo    0.02320   \n",
       "4       -1.0                100                 oo    0.00041   \n",
       "\n",
       "   errorPlambda1pct_y  errorPlambda2pct_y     rho_a               rho_c  \\\n",
       "0    60.0000000000000    60.0000000000001  0.500000 -0.500000-0.300000j   \n",
       "1    5.99999999999996    6.00000000000005  0.540000 -0.500000-0.030000j   \n",
       "2    1.60000000000005    1.59999999999996  0.475000 -0.500000+0.008000j   \n",
       "3    2.32000000000006    2.31999999999996  0.507800 -0.500000+0.011600j   \n",
       "4  0.0410400000000477  0.0410399999999589  0.499848 -0.500000+0.000205j   \n",
       "\n",
       "                                              rhoExp  \n",
       "0  [0.500000000000000, -0.5 - 0.3*I, -0.5 + 0.3*I...  \n",
       "1  [0.540000000000000, -0.5 - 0.03*I, -0.5 + 0.03...  \n",
       "2  [0.475000000000000, -0.5 + 0.008*I, -0.5 - 0.0...  \n",
       "3  [0.507800000000000, -0.5 + 0.0116*I, -0.5 - 0....  \n",
       "4  [0.499848300000000, -0.5 + 0.0002052*I, -0.5 -...  "
      ]
     },
     "execution_count": 19,
     "metadata": {},
     "output_type": "execute_result"
    }
   ],
   "source": [
    "import sympy as sp\n",
    "_=list()\n",
    "df_columns=[\"shots\", \"rho_a\", \"rho_c\", \"rhoExp\"]\n",
    "\n",
    "def sacaDatito(shots,estimador,df_rta7):\n",
    "    # devuelve datito, y un booleando para valido\n",
    "    valido = False\n",
    "    datito=df_rta7[df_rta7['shots'] == shots][estimador]\n",
    "    if len(datito)==1:\n",
    "        valido=True\n",
    "    else:\n",
    "        print(f\"WARN: no hay datos para shots,estimador = {shots},{estimador}\")\n",
    "    return datito, valido\n",
    "\n",
    "for shots in shots_lst:\n",
    "    agregar = True\n",
    "    datito, valido = sacaDatito(shots,\"sigmaZexp\",df_rta7)\n",
    "    if valido:\n",
    "        rho_a = (datito.values[0]+1)/2\n",
    "    agregar = agregar  and valido\n",
    "    datito, valido = sacaDatito(shots,\"sigmaXexp\",df_rta7)\n",
    "    if valido:\n",
    "        rho_c = (datito.values[0])/2 #parte real\n",
    "    agregar = agregar  and valido\n",
    "    datito, valido = sacaDatito(shots,\"sigmaYexp\",df_rta7) #parte onirica\n",
    "    if valido:\n",
    "        rho_c = complex(rho_c, (datito.values[0])/2)\n",
    "    agregar = agregar  and valido\n",
    "    if agregar:\n",
    "        rhoExp = sp.Matrix([[rho_a, rho_c],\n",
    "                            [rho_c.conjugate(), 1 - rho_a]])\n",
    "        _.append((shots,rho_a,rho_c,rhoExp))\n",
    "    else:\n",
    "        print(f\"WARN:Cancelo Pho_exp para shots={shots}\")\n",
    "\n",
    "df_rta7 = df_rta7.merge(pd.DataFrame(columns=df_columns, data=_),\n",
    "                        on=\"shots\",\n",
    "                        how=\"left\",\n",
    "                        suffixes=(None,None))\n",
    "df_rta7"
   ]
  },
  {
   "cell_type": "markdown",
   "metadata": {},
   "source": [
    "validación: Vemos en la diagonal ppal, que las probabilidades son las esperadas para $\\ket{+}$, logramos el famoso  \"fity-fity\" :D\n"
   ]
  },
  {
   "cell_type": "code",
   "execution_count": null,
   "metadata": {
    "ExecuteTime": {
     "end_time": "2025-09-07T18:56:15.304212Z",
     "start_time": "2025-09-07T18:56:15.302779Z"
    }
   },
   "outputs": [],
   "source": []
  },
  {
   "attachments": {},
   "cell_type": "markdown",
   "metadata": {},
   "source": [
    "\n",
    "\n",
    "---\n",
    "\n",
    "$\\color{blue}{\\text{Ejercicio 8}}$: Para distintos valores de $N$, comparar $\\rho_{exp}$ con $\\rho$ y calcular sus autovalores. ¿Qué ocurre cuando aumenta $N$? ¿Son positivos los autovalores? El método que estamos usando para determinar el estado a partir de la estadística observada se llama $\\text{\\textit{inversión lineal}}$. Uno de los problemas de este método es que, dado que la estadística es finita, los valores medios obtenidos difieren de los ideales. Por lo tanto, las ecuaciones obtenidas en el Ejercicio 2 no se cumplen en forma exacta. Eso hace que la matriz densidad estimada pueda tener autovalores negativos (y eso, físicamente, no tiene sentido). De todos modos, para ciertos fines prácticos, es a veces útil aplicar el método de inversión lineal. Otros métodos más sofisticados usan optimización convexa, de forma tal de obtener una matriz densidad bien definida (pero no los discutiremos aquí).\n",
    "\n",
    "$\\color{green}{\\text{AYUDA:}}$ Para calcular los autovalores de una matriz, pueden usar: \n",
    "\n",
    "https://numpy.org/doc/stable/reference/generated/numpy.linalg.eig.html"
   ]
  },
  {
   "cell_type": "markdown",
   "metadata": {},
   "source": [
    "\n",
    "---\n",
    "\n",
    "## $\\color{blue}{\\text{Respuesta 8}}$:\n",
    "\n",
    "Calculo los autovalores de Rho_exp  y comparo con el valor teórico\n",
    "\n"
   ]
  },
  {
   "cell_type": "code",
   "execution_count": 20,
   "metadata": {
    "ExecuteTime": {
     "end_time": "2025-09-07T18:56:15.419216Z",
     "start_time": "2025-09-07T18:56:15.386223Z"
    }
   },
   "outputs": [
    {
     "data": {
      "text/latex": [
       "$\\displaystyle \\rho = \\left[\\begin{matrix}0.5 & 0.5\\\\0.5 & 0.5\\end{matrix}\\right]$"
      ],
      "text/plain": [
       "<IPython.core.display.Math object>"
      ]
     },
     "jetTransient": {
      "display_id": null
     },
     "metadata": {},
     "output_type": "display_data"
    },
    {
     "data": {
      "text/plain": [
       "'autovalores teóricos = {0: 1, 1.00000000000000: 1}'"
      ]
     },
     "jetTransient": {
      "display_id": null
     },
     "metadata": {},
     "output_type": "display_data"
    },
    {
     "data": {
      "text/plain": [
       "'autovalores experimentales, shots=10, autovalores = {1.08309518948453 + 4.85294061244458e-65*I: 1, -0.08309518948453 - 2.13688995799349e-66*I: 1}'"
      ]
     },
     "jetTransient": {
      "display_id": null
     },
     "metadata": {},
     "output_type": "display_data"
    },
    {
     "data": {
      "text/plain": [
       "'autovalores experimentales, shots=100, autovalores = {1.00249378105604 - 4.05771748135412e-66*I: 1, -0.00249378105604452 - 9.71301544074669e-67*I: 1}'"
      ]
     },
     "jetTransient": {
      "display_id": null
     },
     "metadata": {},
     "output_type": "display_data"
    },
    {
     "data": {
      "text/plain": [
       "'autovalores experimentales, shots=1000, autovalores = {-0.000688525932040908 + 7.05411129968912e-35*I: 1, 1.00068852593204 + 7.21337935223883e-35*I: 1}'"
      ]
     },
     "jetTransient": {
      "display_id": null
     },
     "metadata": {},
     "output_type": "display_data"
    },
    {
     "data": {
      "text/plain": [
       "'autovalores experimentales, shots=10000, autovalores = {1.00019536183375 - 7.39427254627007e-67*I: 1, -0.000195361833753913 + 4.96674466923648e-67*I: 1}'"
      ]
     },
     "jetTransient": {
      "display_id": null
     },
     "metadata": {},
     "output_type": "display_data"
    },
    {
     "data": {
      "text/plain": [
       "'autovalores experimentales, shots=10000000.0, autovalores = {-6.51199257593882e-8 + 2.1861690667683e-37*I: 1, 1.00000006511993 + 5.57962684835084e-37*I: 1}'"
      ]
     },
     "jetTransient": {
      "display_id": null
     },
     "metadata": {},
     "output_type": "display_data"
    }
   ],
   "source": [
    "# valid q no hay cambió rho en el camino desde rta2\n",
    "assert 0 in rho.eigenvals().keys()\n",
    "assert 1/max(rho.eigenvals().keys()) < 1.1\n",
    "display(Math(r\"\\rho = \"+sp.latex(rho)))\n",
    "display(f\"autovalores teóricos = {rho.eigenvals()}\")\n",
    "\n",
    "for shots in shots_lst:\n",
    "    if not shots in df_rta7['shots'].values:\n",
    "        print(f\"WARN: no hay Rho_exp para shots {shots}\")\n",
    "    else:\n",
    "        rho_exp = df_rta7[df_rta7['shots'] == shots]['rhoExp'].values[0]\n",
    "        display(f\"autovalores experimentales, shots={shots}, autovalores = {rho_exp.eigenvals()}\")\n"
   ]
  },
  {
   "cell_type": "markdown",
   "metadata": {},
   "source": [
    "conclusiones: los autovalores son los mismos que la teoría, salvo dentor de cierto rango de tolerancia\n",
    "\n",
    "---\n",
    "\n"
   ]
  },
  {
   "attachments": {},
   "cell_type": "markdown",
   "metadata": {},
   "source": [
    "Todo lo visto hasta ahora enseñó cómo realizar la tomografía de un qubit en el estado $\\frac{1}{\\sqrt{2}}(|0\\rangle + |1\\rangle)$). Puede parecer un poco redundante, pues el estado de entrada ya era conocido. Ahora vamos a hacer algo un poco más sofisticado. Qiskit tiene una función que genera circuitos al azar. Pueden ver los detalles aquí:\n",
    "\n",
    "https://qiskit.org/documentation/stubs/qiskit.circuit.random.random_circuit.html\n",
    "\n",
    "y aquí está el código fuente:\n",
    "\n",
    "https://qiskit.org/documentation/_modules/qiskit/circuit/random/utils.html\n",
    "\n",
    "Los curcuitos cuánticos aleatorios son importantes en muchas áreas de investigación. Fueron utilizados en este experimento de Google Sycamore:\n",
    "\n",
    "https://www.nature.com/articles/s41586-019-1666-5\n",
    "\n",
    "Ustedes mismxs pueden armar un circuito random usando el siguiente código:"
   ]
  },
  {
   "cell_type": "code",
   "execution_count": 21,
   "metadata": {
    "ExecuteTime": {
     "end_time": "2025-09-07T18:56:15.711506Z",
     "start_time": "2025-09-07T18:56:15.494932Z"
    }
   },
   "outputs": [
    {
     "data": {
      "image/png": "[encoded data removed]",
      "text/plain": [
       "<Figure size 1541.66x284.278 with 1 Axes>"
      ]
     },
     "execution_count": 21,
     "metadata": {},
     "output_type": "execute_result"
    }
   ],
   "source": [
    "from qiskit.circuit.random import random_circuit\n",
    "\n",
    "circ = random_circuit(3, 10)\n",
    "circ.draw(output='mpl')"
   ]
  },
  {
   "attachments": {},
   "cell_type": "markdown",
   "metadata": {},
   "source": [
    "En el ejemplo de arriba, armamos un circuito de tres qubits de profundidad $10$ (es decir, el número de compuertas que va a tener).\n",
    "\n",
    "En la función \"random_circuit(x, y)\", $x$ indica el número de qubits e $y$ la profundidad (número de compuertas).\n",
    "\n",
    "$\\color{blue}{\\text{Ejercicio 9}}$: Usar la función \"random_circuit()\" para jugar y generar distintos circuitos al azar (con distintos números de qubits y profundidades). Diseñar un código que permita extraer el estado generado y el operador correspondiente al circuito. También pueden (opcional) intentar generar un estado de un qubit al azar, y estimarlo con el método de inversión lineal usado arriba.\n",
    "\n",
    "$\\color{green}{\\text{AYUDA}}$: Para extraer el estado de un circuito \"circ\", se puede usar la función \"get_statevector(circ)\". Se puede correr el curcuito en el simulador definido arriba, correr el circuito con cero shots (job = simulador.run(circ, shots = 0)), extraer el resultado con la función \"result()\". Algo así como: \"result = job.result()\" y \"outputstate = result.get_statevector(circ)\". También es posible extraer la matriz unitaria asociada al circuito con un método similar."
   ]
  },
  {
   "attachments": {},
   "cell_type": "markdown",
   "metadata": {},
   "source": [
    "$\\color{blue}{\\text{Ejercicio 10}}$: Siguiendo una metodología similar a la de ejercicios anteriores, hacer una tomografía del siguiente estado de dos qubits:\n",
    "\n",
    "$|GHZ\\rangle = \\frac{1}{\\sqrt{2}}(|00\\rangle + |11\\rangle)$\n",
    "\n",
    "$\\color{green}{\\text{AYUDA 1}}$: Para generar este estado, usar las compuertas $H$ y $Cnot$ actuando en un circuito de dos qubits.\n",
    "\n",
    "$\\color{green}{\\text{AYUDA 2}}$: Es posible parametrizar a la matriz densidad de un estado arbitrario de dos qubits teniendo en cuenta que (i) al ser Hermítica, las entradas de la diagonal son números reales que suman uno, y (ii), fuera de la diagonal, el elemento $\\rho_{ij}$ es igual a $\\rho_{ji}$ conjugado ($\\rho_{ij} = \\rho_{ji}^{\\ast}$). ¿Cuántos parámetros independientes tiene? Usando la regla de Born ($tr(\\rho A)$), se puede conectar las entradas de la matriz con los valores medios de los distintos observables que elijan medir. \n",
    "\n",
    "$\\color{green}{\\text{AYUDA 3}}$: Para obtener información tomográficamente completa, podemos medir los valores medios de los siguientes observables:\n",
    "\n",
    "$$O = \\{ \\sigma_{x}\\otimes I, I\\otimes\\sigma_{x}, \\sigma_{y}\\otimes I, I\\otimes\\sigma_{y}, \\sigma_{z}\\otimes I, I\\otimes\\sigma_{z},\\\\ \\sigma_{x}\\otimes\\sigma_{x}, \\sigma_{y}\\otimes\\sigma_{y}, \\sigma_{z}\\otimes\\sigma_{z}, \\sigma_{x}\\otimes\\sigma_{y}, \\sigma_{y}\\otimes\\sigma_{x},\\\\ \\sigma_{x}\\otimes\\sigma_{z}, \\sigma_{z}\\otimes\\sigma_{x}, \\sigma_{y}\\otimes\\sigma_{z}, \\sigma_{z}\\otimes\\sigma_{y} \\}$$\n",
    "\n",
    "donde $I$ es la matriz identidad de $2\\times2$. ¿Es posible acortar la lista de arriba? ¿Cómo medimos las identidades? ¿Es necesario medirlas?"
   ]
  }
 ],
 "metadata": {
  "kernelspec": {
   "display_name": "Python 3 (ipykernel)",
   "language": "python",
   "name": "python3"
  },
  "language_info": {
   "codemirror_mode": {
    "name": "ipython",
    "version": 3
   },
   "file_extension": ".py",
   "mimetype": "text/x-python",
   "name": "python",
   "nbconvert_exporter": "python",
   "pygments_lexer": "ipython3",
   "version": "3.11.2"
  }
 },
 "nbformat": 4,
 "nbformat_minor": 4
}
